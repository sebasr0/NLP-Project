{
 "cells": [
  {
   "cell_type": "markdown",
   "id": "33eff85f",
   "metadata": {},
   "source": [
    "# Text Processing:\n",
    "---"
   ]
  },
  {
   "cell_type": "code",
   "execution_count": null,
   "id": "23b36180",
   "metadata": {},
   "outputs": [],
   "source": [
    "#limpiar cache spark\n",
    "#spark.catalog.clearCache()"
   ]
  },
  {
   "cell_type": "code",
   "execution_count": 1,
   "id": "0fd84853",
   "metadata": {
    "execution": {
     "iopub.execute_input": "2024-11-07T22:31:19.220813Z",
     "iopub.status.busy": "2024-11-07T22:31:19.220475Z",
     "iopub.status.idle": "2024-11-07T22:32:16.624613Z",
     "shell.execute_reply": "2024-11-07T22:32:16.623915Z",
     "shell.execute_reply.started": "2024-11-07T22:31:19.220786Z"
    },
    "tags": []
   },
   "outputs": [
    {
     "name": "stderr",
     "output_type": "stream",
     "text": [
      "24/11/09 21:19:03 WARN Utils: Your hostname, ubuntu-IdeaPad-Gaming-3-15IAH7 resolves to a loopback address: 127.0.1.1; using 192.168.1.16 instead (on interface enp48s0)\n",
      "24/11/09 21:19:03 WARN Utils: Set SPARK_LOCAL_IP if you need to bind to another address\n"
     ]
    },
    {
     "name": "stdout",
     "output_type": "stream",
     "text": [
      ":: loading settings :: url = jar:file:/home/ubuntu/.local/lib/python3.12/site-packages/pyspark/jars/ivy-2.5.1.jar!/org/apache/ivy/core/settings/ivysettings.xml\n"
     ]
    },
    {
     "name": "stderr",
     "output_type": "stream",
     "text": [
      "Ivy Default Cache set to: /home/ubuntu/.ivy2/cache\n",
      "The jars for the packages stored in: /home/ubuntu/.ivy2/jars\n",
      "com.johnsnowlabs.nlp#spark-nlp_2.12 added as a dependency\n",
      ":: resolving dependencies :: org.apache.spark#spark-submit-parent-004f582b-459f-4066-9fbe-0fee4b5c8bf9;1.0\n",
      "\tconfs: [default]\n",
      "\tfound com.johnsnowlabs.nlp#spark-nlp_2.12;5.5.1 in central\n",
      "\tfound com.typesafe#config;1.4.2 in central\n",
      "\tfound org.rocksdb#rocksdbjni;6.29.5 in central\n",
      "\tfound com.amazonaws#aws-java-sdk-s3;1.12.500 in central\n",
      "\tfound com.amazonaws#aws-java-sdk-kms;1.12.500 in central\n",
      "\tfound com.amazonaws#aws-java-sdk-core;1.12.500 in central\n",
      "\tfound commons-logging#commons-logging;1.1.3 in central\n",
      "\tfound commons-codec#commons-codec;1.15 in central\n",
      "\tfound org.apache.httpcomponents#httpclient;4.5.13 in central\n",
      "\tfound org.apache.httpcomponents#httpcore;4.4.13 in central\n",
      "\tfound software.amazon.ion#ion-java;1.0.2 in central\n",
      "\tfound joda-time#joda-time;2.8.1 in central\n",
      "\tfound com.amazonaws#jmespath-java;1.12.500 in central\n",
      "\tfound com.github.universal-automata#liblevenshtein;3.0.0 in central\n",
      "\tfound com.google.protobuf#protobuf-java-util;3.0.0-beta-3 in central\n",
      "\tfound com.google.protobuf#protobuf-java;3.0.0-beta-3 in central\n",
      "\tfound com.google.code.gson#gson;2.3 in central\n",
      "\tfound it.unimi.dsi#fastutil;7.0.12 in central\n",
      "\tfound org.projectlombok#lombok;1.16.8 in central\n",
      "\tfound com.google.cloud#google-cloud-storage;2.20.1 in central\n",
      "\tfound com.google.guava#guava;31.1-jre in central\n",
      "\tfound com.google.guava#failureaccess;1.0.1 in central\n",
      "\tfound com.google.guava#listenablefuture;9999.0-empty-to-avoid-conflict-with-guava in central\n",
      "\tfound com.google.errorprone#error_prone_annotations;2.18.0 in central\n",
      "\tfound com.google.j2objc#j2objc-annotations;1.3 in central\n",
      "\tfound com.google.http-client#google-http-client;1.43.0 in central\n",
      "\tfound io.opencensus#opencensus-contrib-http-util;0.31.1 in central\n",
      "\tfound com.google.http-client#google-http-client-jackson2;1.43.0 in central\n",
      "\tfound com.google.http-client#google-http-client-gson;1.43.0 in central\n",
      "\tfound com.google.api-client#google-api-client;2.2.0 in central\n",
      "\tfound com.google.oauth-client#google-oauth-client;1.34.1 in central\n",
      "\tfound com.google.http-client#google-http-client-apache-v2;1.43.0 in central\n",
      "\tfound com.google.apis#google-api-services-storage;v1-rev20220705-2.0.0 in central\n",
      "\tfound com.google.code.gson#gson;2.10.1 in central\n",
      "\tfound com.google.cloud#google-cloud-core;2.12.0 in central\n",
      "\tfound io.grpc#grpc-context;1.53.0 in central\n",
      "\tfound com.google.auto.value#auto-value-annotations;1.10.1 in central\n",
      "\tfound com.google.auto.value#auto-value;1.10.1 in central\n",
      "\tfound javax.annotation#javax.annotation-api;1.3.2 in central\n",
      "\tfound com.google.cloud#google-cloud-core-http;2.12.0 in central\n",
      "\tfound com.google.http-client#google-http-client-appengine;1.43.0 in central\n",
      "\tfound com.google.api#gax-httpjson;0.108.2 in central\n",
      "\tfound com.google.cloud#google-cloud-core-grpc;2.12.0 in central\n",
      "\tfound io.grpc#grpc-alts;1.53.0 in central\n",
      "\tfound io.grpc#grpc-grpclb;1.53.0 in central\n",
      "\tfound org.conscrypt#conscrypt-openjdk-uber;2.5.2 in central\n",
      "\tfound io.grpc#grpc-auth;1.53.0 in central\n",
      "\tfound io.grpc#grpc-protobuf;1.53.0 in central\n",
      "\tfound io.grpc#grpc-protobuf-lite;1.53.0 in central\n",
      "\tfound io.grpc#grpc-core;1.53.0 in central\n",
      "\tfound com.google.api#gax;2.23.2 in central\n",
      "\tfound com.google.api#gax-grpc;2.23.2 in central\n",
      "\tfound com.google.auth#google-auth-library-credentials;1.16.0 in central\n",
      "\tfound com.google.auth#google-auth-library-oauth2-http;1.16.0 in central\n",
      "\tfound com.google.api#api-common;2.6.2 in central\n",
      "\tfound io.opencensus#opencensus-api;0.31.1 in central\n",
      "\tfound com.google.api.grpc#proto-google-iam-v1;1.9.2 in central\n",
      "\tfound com.google.protobuf#protobuf-java;3.21.12 in central\n",
      "\tfound com.google.protobuf#protobuf-java-util;3.21.12 in central\n",
      "\tfound com.google.api.grpc#proto-google-common-protos;2.14.2 in central\n",
      "\tfound org.threeten#threetenbp;1.6.5 in central\n",
      "\tfound com.google.api.grpc#proto-google-cloud-storage-v2;2.20.1-alpha in central\n",
      "\tfound com.google.api.grpc#grpc-google-cloud-storage-v2;2.20.1-alpha in central\n",
      "\tfound com.google.api.grpc#gapic-google-cloud-storage-v2;2.20.1-alpha in central\n",
      "\tfound com.google.code.findbugs#jsr305;3.0.2 in central\n",
      "\tfound io.grpc#grpc-api;1.53.0 in central\n",
      "\tfound io.grpc#grpc-stub;1.53.0 in central\n",
      "\tfound org.checkerframework#checker-qual;3.31.0 in central\n",
      "\tfound io.perfmark#perfmark-api;0.26.0 in central\n",
      "\tfound com.google.android#annotations;4.1.1.4 in central\n",
      "\tfound org.codehaus.mojo#animal-sniffer-annotations;1.22 in central\n",
      "\tfound io.opencensus#opencensus-proto;0.2.0 in central\n",
      "\tfound io.grpc#grpc-services;1.53.0 in central\n",
      "\tfound com.google.re2j#re2j;1.6 in central\n",
      "\tfound io.grpc#grpc-netty-shaded;1.53.0 in central\n",
      "\tfound io.grpc#grpc-googleapis;1.53.0 in central\n",
      "\tfound io.grpc#grpc-xds;1.53.0 in central\n",
      "\tfound com.navigamez#greex;1.0 in central\n",
      "\tfound dk.brics.automaton#automaton;1.11-8 in central\n",
      "\tfound com.johnsnowlabs.nlp#tensorflow-cpu_2.12;0.4.4 in central\n",
      "\tfound com.microsoft.onnxruntime#onnxruntime;1.19.2 in central\n",
      "\tfound com.johnsnowlabs.nlp#jsl-llamacpp-cpu_2.12;0.1.4 in central\n",
      "\tfound org.jetbrains#annotations;24.1.0 in central\n",
      "\tfound com.johnsnowlabs.nlp#jsl-openvino-cpu_2.12;0.1.0 in central\n",
      ":: resolution report :: resolve 1037ms :: artifacts dl 44ms\n",
      "\t:: modules in use:\n",
      "\tcom.amazonaws#aws-java-sdk-core;1.12.500 from central in [default]\n",
      "\tcom.amazonaws#aws-java-sdk-kms;1.12.500 from central in [default]\n",
      "\tcom.amazonaws#aws-java-sdk-s3;1.12.500 from central in [default]\n",
      "\tcom.amazonaws#jmespath-java;1.12.500 from central in [default]\n",
      "\tcom.github.universal-automata#liblevenshtein;3.0.0 from central in [default]\n",
      "\tcom.google.android#annotations;4.1.1.4 from central in [default]\n",
      "\tcom.google.api#api-common;2.6.2 from central in [default]\n",
      "\tcom.google.api#gax;2.23.2 from central in [default]\n",
      "\tcom.google.api#gax-grpc;2.23.2 from central in [default]\n",
      "\tcom.google.api#gax-httpjson;0.108.2 from central in [default]\n",
      "\tcom.google.api-client#google-api-client;2.2.0 from central in [default]\n",
      "\tcom.google.api.grpc#gapic-google-cloud-storage-v2;2.20.1-alpha from central in [default]\n",
      "\tcom.google.api.grpc#grpc-google-cloud-storage-v2;2.20.1-alpha from central in [default]\n",
      "\tcom.google.api.grpc#proto-google-cloud-storage-v2;2.20.1-alpha from central in [default]\n",
      "\tcom.google.api.grpc#proto-google-common-protos;2.14.2 from central in [default]\n",
      "\tcom.google.api.grpc#proto-google-iam-v1;1.9.2 from central in [default]\n",
      "\tcom.google.apis#google-api-services-storage;v1-rev20220705-2.0.0 from central in [default]\n",
      "\tcom.google.auth#google-auth-library-credentials;1.16.0 from central in [default]\n",
      "\tcom.google.auth#google-auth-library-oauth2-http;1.16.0 from central in [default]\n",
      "\tcom.google.auto.value#auto-value;1.10.1 from central in [default]\n",
      "\tcom.google.auto.value#auto-value-annotations;1.10.1 from central in [default]\n",
      "\tcom.google.cloud#google-cloud-core;2.12.0 from central in [default]\n",
      "\tcom.google.cloud#google-cloud-core-grpc;2.12.0 from central in [default]\n",
      "\tcom.google.cloud#google-cloud-core-http;2.12.0 from central in [default]\n",
      "\tcom.google.cloud#google-cloud-storage;2.20.1 from central in [default]\n",
      "\tcom.google.code.findbugs#jsr305;3.0.2 from central in [default]\n",
      "\tcom.google.code.gson#gson;2.10.1 from central in [default]\n",
      "\tcom.google.errorprone#error_prone_annotations;2.18.0 from central in [default]\n",
      "\tcom.google.guava#failureaccess;1.0.1 from central in [default]\n",
      "\tcom.google.guava#guava;31.1-jre from central in [default]\n",
      "\tcom.google.guava#listenablefuture;9999.0-empty-to-avoid-conflict-with-guava from central in [default]\n",
      "\tcom.google.http-client#google-http-client;1.43.0 from central in [default]\n",
      "\tcom.google.http-client#google-http-client-apache-v2;1.43.0 from central in [default]\n",
      "\tcom.google.http-client#google-http-client-appengine;1.43.0 from central in [default]\n",
      "\tcom.google.http-client#google-http-client-gson;1.43.0 from central in [default]\n",
      "\tcom.google.http-client#google-http-client-jackson2;1.43.0 from central in [default]\n",
      "\tcom.google.j2objc#j2objc-annotations;1.3 from central in [default]\n",
      "\tcom.google.oauth-client#google-oauth-client;1.34.1 from central in [default]\n",
      "\tcom.google.protobuf#protobuf-java;3.21.12 from central in [default]\n",
      "\tcom.google.protobuf#protobuf-java-util;3.21.12 from central in [default]\n",
      "\tcom.google.re2j#re2j;1.6 from central in [default]\n",
      "\tcom.johnsnowlabs.nlp#jsl-llamacpp-cpu_2.12;0.1.4 from central in [default]\n",
      "\tcom.johnsnowlabs.nlp#jsl-openvino-cpu_2.12;0.1.0 from central in [default]\n",
      "\tcom.johnsnowlabs.nlp#spark-nlp_2.12;5.5.1 from central in [default]\n",
      "\tcom.johnsnowlabs.nlp#tensorflow-cpu_2.12;0.4.4 from central in [default]\n",
      "\tcom.microsoft.onnxruntime#onnxruntime;1.19.2 from central in [default]\n",
      "\tcom.navigamez#greex;1.0 from central in [default]\n",
      "\tcom.typesafe#config;1.4.2 from central in [default]\n",
      "\tcommons-codec#commons-codec;1.15 from central in [default]\n",
      "\tcommons-logging#commons-logging;1.1.3 from central in [default]\n",
      "\tdk.brics.automaton#automaton;1.11-8 from central in [default]\n",
      "\tio.grpc#grpc-alts;1.53.0 from central in [default]\n",
      "\tio.grpc#grpc-api;1.53.0 from central in [default]\n",
      "\tio.grpc#grpc-auth;1.53.0 from central in [default]\n",
      "\tio.grpc#grpc-context;1.53.0 from central in [default]\n",
      "\tio.grpc#grpc-core;1.53.0 from central in [default]\n",
      "\tio.grpc#grpc-googleapis;1.53.0 from central in [default]\n",
      "\tio.grpc#grpc-grpclb;1.53.0 from central in [default]\n",
      "\tio.grpc#grpc-netty-shaded;1.53.0 from central in [default]\n",
      "\tio.grpc#grpc-protobuf;1.53.0 from central in [default]\n",
      "\tio.grpc#grpc-protobuf-lite;1.53.0 from central in [default]\n",
      "\tio.grpc#grpc-services;1.53.0 from central in [default]\n",
      "\tio.grpc#grpc-stub;1.53.0 from central in [default]\n",
      "\tio.grpc#grpc-xds;1.53.0 from central in [default]\n",
      "\tio.opencensus#opencensus-api;0.31.1 from central in [default]\n",
      "\tio.opencensus#opencensus-contrib-http-util;0.31.1 from central in [default]\n",
      "\tio.opencensus#opencensus-proto;0.2.0 from central in [default]\n",
      "\tio.perfmark#perfmark-api;0.26.0 from central in [default]\n",
      "\tit.unimi.dsi#fastutil;7.0.12 from central in [default]\n",
      "\tjavax.annotation#javax.annotation-api;1.3.2 from central in [default]\n",
      "\tjoda-time#joda-time;2.8.1 from central in [default]\n",
      "\torg.apache.httpcomponents#httpclient;4.5.13 from central in [default]\n",
      "\torg.apache.httpcomponents#httpcore;4.4.13 from central in [default]\n",
      "\torg.checkerframework#checker-qual;3.31.0 from central in [default]\n",
      "\torg.codehaus.mojo#animal-sniffer-annotations;1.22 from central in [default]\n",
      "\torg.conscrypt#conscrypt-openjdk-uber;2.5.2 from central in [default]\n",
      "\torg.jetbrains#annotations;24.1.0 from central in [default]\n",
      "\torg.projectlombok#lombok;1.16.8 from central in [default]\n",
      "\torg.rocksdb#rocksdbjni;6.29.5 from central in [default]\n",
      "\torg.threeten#threetenbp;1.6.5 from central in [default]\n",
      "\tsoftware.amazon.ion#ion-java;1.0.2 from central in [default]\n",
      "\t:: evicted modules:\n",
      "\tcommons-logging#commons-logging;1.2 by [commons-logging#commons-logging;1.1.3] in [default]\n",
      "\tcommons-codec#commons-codec;1.11 by [commons-codec#commons-codec;1.15] in [default]\n",
      "\tcom.google.protobuf#protobuf-java-util;3.0.0-beta-3 by [com.google.protobuf#protobuf-java-util;3.21.12] in [default]\n",
      "\tcom.google.protobuf#protobuf-java;3.0.0-beta-3 by [com.google.protobuf#protobuf-java;3.21.12] in [default]\n",
      "\tcom.google.code.gson#gson;2.3 by [com.google.code.gson#gson;2.10.1] in [default]\n",
      "\t---------------------------------------------------------------------\n",
      "\t|                  |            modules            ||   artifacts   |\n",
      "\t|       conf       | number| search|dwnlded|evicted|| number|dwnlded|\n",
      "\t---------------------------------------------------------------------\n",
      "\t|      default     |   86  |   0   |   0   |   5   ||   81  |   0   |\n",
      "\t---------------------------------------------------------------------\n",
      ":: retrieving :: org.apache.spark#spark-submit-parent-004f582b-459f-4066-9fbe-0fee4b5c8bf9\n",
      "\tconfs: [default]\n",
      "\t0 artifacts copied, 81 already retrieved (0kB/14ms)\n",
      "24/11/09 21:19:04 WARN NativeCodeLoader: Unable to load native-hadoop library for your platform... using builtin-java classes where applicable\n",
      "Setting default log level to \"WARN\".\n",
      "To adjust logging level use sc.setLogLevel(newLevel). For SparkR, use setLogLevel(newLevel).\n"
     ]
    }
   ],
   "source": [
    "import sparknlp\n",
    "\n",
    "spark = sparknlp.start()"
   ]
  },
  {
   "cell_type": "markdown",
   "id": "d58f5953",
   "metadata": {},
   "source": [
    "## Librerias:"
   ]
  },
  {
   "cell_type": "code",
   "execution_count": 2,
   "id": "645cbe67",
   "metadata": {
    "execution": {
     "iopub.execute_input": "2024-11-07T22:32:16.679609Z",
     "iopub.status.busy": "2024-11-07T22:32:16.679436Z",
     "iopub.status.idle": "2024-11-07T22:32:16.728448Z",
     "shell.execute_reply": "2024-11-07T22:32:16.727895Z",
     "shell.execute_reply.started": "2024-11-07T22:32:16.679589Z"
    },
    "tags": []
   },
   "outputs": [],
   "source": [
    "# PySpark SQL Modules\n",
    "from pyspark.sql import SparkSession\n",
    "from pyspark.sql import functions as F\n",
    "from pyspark.sql.functions import col, lit, when, trim, split, udf, expr\n",
    "from pyspark.sql.types import StringType, ArrayType\n",
    "from sparknlp.annotator import *\n",
    "\n",
    "# PySpark ML Modules\n",
    "from pyspark.ml import Pipeline, Transformer\n",
    "from pyspark.ml.feature import Tokenizer, StopWordsRemover\n",
    "\n",
    "# Other Libraries\n",
    "import os"
   ]
  },
  {
   "cell_type": "markdown",
   "id": "b3cb680a",
   "metadata": {},
   "source": [
    "## Lectura de Datos\n",
    "---"
   ]
  },
  {
   "cell_type": "code",
   "execution_count": 3,
   "id": "cd09b455",
   "metadata": {
    "execution": {
     "iopub.execute_input": "2024-11-07T22:32:16.729724Z",
     "iopub.status.busy": "2024-11-07T22:32:16.729566Z",
     "iopub.status.idle": "2024-11-07T22:32:16.777635Z",
     "shell.execute_reply": "2024-11-07T22:32:16.777103Z",
     "shell.execute_reply.started": "2024-11-07T22:32:16.729704Z"
    },
    "tags": []
   },
   "outputs": [],
   "source": [
    "# Ruta al archivo JSON\n",
    "file_path = '/home/ubuntu/Documents/sparknlp-complaints/complaints.json'"
   ]
  },
  {
   "cell_type": "code",
   "execution_count": 4,
   "id": "adabfd34",
   "metadata": {
    "execution": {
     "iopub.execute_input": "2024-11-07T22:32:16.778745Z",
     "iopub.status.busy": "2024-11-07T22:32:16.778583Z",
     "iopub.status.idle": "2024-11-07T22:32:28.081369Z",
     "shell.execute_reply": "2024-11-07T22:32:28.080720Z",
     "shell.execute_reply.started": "2024-11-07T22:32:16.778725Z"
    },
    "tags": []
   },
   "outputs": [
    {
     "name": "stderr",
     "output_type": "stream",
     "text": [
      "                                                                                \r"
     ]
    }
   ],
   "source": [
    "# Cargar archivo JSON en Spark DataFrame\n",
    "df_tickets = spark.read.json(file_path)\n",
    "\n",
    "# Desanidar las columnas dentro de _source\n",
    "df_tickets_flat = df_tickets.select(\n",
    "    \"_id\", \"_index\", \"_score\",\n",
    "    col(\"_source.tags\").alias(\"tags\"),\n",
    "    col(\"_source.zip_code\").alias(\"zip_code\"),\n",
    "    col(\"_source.complaint_id\").alias(\"complaint_id\"),\n",
    "    col(\"_source.issue\").alias(\"issue\"),\n",
    "    col(\"_source.date_received\").alias(\"date_received\"),\n",
    "    col(\"_source.state\").alias(\"state\"),\n",
    "    col(\"_source.consumer_disputed\").alias(\"consumer_disputed\"),\n",
    "    col(\"_source.product\").alias(\"product\"),\n",
    "    col(\"_source.company_response\").alias(\"company_response\"),\n",
    "    col(\"_source.company\").alias(\"company\"),\n",
    "    col(\"_source.submitted_via\").alias(\"submitted_via\"),\n",
    "    col(\"_source.date_sent_to_company\").alias(\"date_sent_to_company\"),\n",
    "    col(\"_source.company_public_response\").alias(\"company_public_response\"),\n",
    "    col(\"_source.sub_product\").alias(\"sub_product\"),\n",
    "    col(\"_source.timely\").alias(\"timely\"),\n",
    "    col(\"_source.complaint_what_happened\").alias(\"complaint_what_happened\"),\n",
    "    col(\"_source.sub_issue\").alias(\"sub_issue\"),\n",
    "    col(\"_source.consumer_consent_provided\").alias(\"consumer_consent_provided\"),\n",
    "    \"_type\"\n",
    ")"
   ]
  },
  {
   "cell_type": "markdown",
   "id": "14f0623d",
   "metadata": {},
   "source": [
    "## Limpieza de Datos\n",
    "---"
   ]
  },
  {
   "cell_type": "code",
   "execution_count": 5,
   "id": "cc5b35ff",
   "metadata": {
    "execution": {
     "iopub.execute_input": "2024-11-07T22:32:28.082866Z",
     "iopub.status.busy": "2024-11-07T22:32:28.082625Z",
     "iopub.status.idle": "2024-11-07T22:32:31.360972Z",
     "shell.execute_reply": "2024-11-07T22:32:31.360263Z",
     "shell.execute_reply.started": "2024-11-07T22:32:28.082833Z"
    },
    "tags": []
   },
   "outputs": [
    {
     "name": "stdout",
     "output_type": "stream",
     "text": [
      "+-----------------------+--------------------+\n",
      "|complaint_what_happened|            category|\n",
      "+-----------------------+--------------------+\n",
      "|   Good morning my n...|Debt collection+C...|\n",
      "|   I upgraded my XXX...|Credit card or pr...|\n",
      "|   Chase Card was re...|Credit reporting,...|\n",
      "|   On XX/XX/2018, wh...|Credit reporting,...|\n",
      "|   my grand son give...|Checking or savin...|\n",
      "|   Can you please re...|Credit reporting,...|\n",
      "|   With out notice J...|Checking or savin...|\n",
      "|   During the summer...|Vehicle loan or l...|\n",
      "|   On XXXX XX/XX/201...|Money transfer, v...|\n",
      "|   I have a Chase cr...|Credit card or pr...|\n",
      "|   mishandling of th...|Vehicle loan or l...|\n",
      "|   I have reached ou...|Credit reporting,...|\n",
      "|   I opened an accou...|Checking or savin...|\n",
      "|   To whom it may co...|Checking or savin...|\n",
      "|   My chase amazon c...|Credit card or pr...|\n",
      "|   I opened the savi...|Checking or savin...|\n",
      "|   XXXX XXXX a sofa,...|Checking or savin...|\n",
      "|   My card went miss...|Checking or savin...|\n",
      "|   Chase sent me an ...|Credit card or pr...|\n",
      "|   I made a purchase...|Checking or savin...|\n",
      "+-----------------------+--------------------+\n",
      "only showing top 20 rows\n",
      "\n"
     ]
    },
    {
     "name": "stderr",
     "output_type": "stream",
     "text": [
      "                                                                                \r"
     ]
    }
   ],
   "source": [
    "# Seleccionar la columnas\n",
    "df_filtered = df_tickets_flat.select('complaint_what_happened','product','sub_product')\n",
    "\n",
    "# Concatenar las columnas 'category' y 'sub_category' con un '+' en medio\n",
    "df_filtered = df_filtered.withColumn('category', F.concat_ws('+', F.col('product'), F.col('sub_product')))\n",
    "\n",
    "# Eliminar la columna 'sub_category'\n",
    "df_filtered = df_filtered.drop('product','sub_product')\n",
    "\n",
    "# Reemplazar cadenas vacías por nulos\n",
    "df_filtered = df_filtered.withColumn(\"complaint_what_happened\", when(trim(col(\"complaint_what_happened\")) == \"\", lit(None)).otherwise(col(\"complaint_what_happened\")))        \n",
    "\n",
    "# Eliminar filas con nulos en columnas especificadas\n",
    "df_filtered = df_filtered.dropna(subset=[\"complaint_what_happened\", \"category\"])\n",
    "\n",
    "df_filtered.show()"
   ]
  },
  {
   "cell_type": "code",
   "execution_count": 6,
   "id": "42dd5085",
   "metadata": {
    "execution": {
     "iopub.execute_input": "2024-11-07T22:32:31.362335Z",
     "iopub.status.busy": "2024-11-07T22:32:31.362086Z",
     "iopub.status.idle": "2024-11-07T22:32:33.637888Z",
     "shell.execute_reply": "2024-11-07T22:32:33.637018Z",
     "shell.execute_reply.started": "2024-11-07T22:32:31.362302Z"
    },
    "tags": []
   },
   "outputs": [
    {
     "name": "stdout",
     "output_type": "stream",
     "text": [
      "+-----------------------+--------------------+\n",
      "|complaint_what_happened|            category|\n",
      "+-----------------------+--------------------+\n",
      "|   good morning my n...|Debt collection+C...|\n",
      "|   i upgraded my xxx...|Credit card or pr...|\n",
      "|   chase card was re...|Credit reporting,...|\n",
      "|   on  while trying ...|Credit reporting,...|\n",
      "|   my grand son give...|Checking or savin...|\n",
      "|   can you please re...|Credit reporting,...|\n",
      "|   with out notice j...|Checking or savin...|\n",
      "|   during the summer...|Vehicle loan or l...|\n",
      "|   on xxxx  i made a...|Money transfer, v...|\n",
      "|   i have a chase cr...|Credit card or pr...|\n",
      "|   mishandling of th...|Vehicle loan or l...|\n",
      "|   i have reached ou...|Credit reporting,...|\n",
      "|   i opened an accou...|Checking or savin...|\n",
      "|   to whom it may co...|Checking or savin...|\n",
      "|   my chase amazon c...|Credit card or pr...|\n",
      "|   i opened the savi...|Checking or savin...|\n",
      "|   xxxx xxxx a sofa ...|Checking or savin...|\n",
      "|   my card went miss...|Checking or savin...|\n",
      "|   chase sent me an ...|Credit card or pr...|\n",
      "|   i made a purchase...|Checking or savin...|\n",
      "+-----------------------+--------------------+\n",
      "only showing top 20 rows\n",
      "\n"
     ]
    }
   ],
   "source": [
    "# Definir una UDF para aplicar todas las transformaciones en Spark\n",
    "def clean_text_spark(df, text_column):\n",
    "    # Convertir el texto a minúsculas\n",
    "    df = df.withColumn(text_column, F.lower(F.col(text_column)))\n",
    "    \n",
    "    # Eliminar texto en corchetes []\n",
    "    df = df.withColumn(text_column, F.regexp_replace(F.col(text_column), r'\\[.*?\\]', ''))\n",
    "    \n",
    "    # Eliminar puntuación\n",
    "    df = df.withColumn(text_column, F.regexp_replace(F.col(text_column), r'[^\\w\\s]', ''))\n",
    "    \n",
    "    # Eliminar palabras que contienen números\n",
    "    df = df.withColumn(text_column, F.regexp_replace(F.col(text_column), r'\\b\\w*\\d\\w*\\b', ''))\n",
    "    \n",
    "    # Eliminar espacios en blanco adicionales\n",
    "    df = df.withColumn(text_column, F.trim(F.col(text_column)))\n",
    "    \n",
    "    return df\n",
    "\n",
    "# Aplicar la función de limpieza\n",
    "df_cleanedxx = clean_text_spark(df_filtered, 'complaint_what_happened')\n",
    "\n",
    "# Mostrar el resultado limpio\n",
    "df_cleanedxx.show()"
   ]
  },
  {
   "cell_type": "code",
   "execution_count": 7,
   "id": "230395fb",
   "metadata": {
    "execution": {
     "iopub.execute_input": "2024-11-07T22:32:33.639629Z",
     "iopub.status.busy": "2024-11-07T22:32:33.639468Z",
     "iopub.status.idle": "2024-11-07T22:32:39.044939Z",
     "shell.execute_reply": "2024-11-07T22:32:39.044067Z",
     "shell.execute_reply.started": "2024-11-07T22:32:33.639610Z"
    },
    "tags": []
   },
   "outputs": [
    {
     "name": "stderr",
     "output_type": "stream",
     "text": [
      "[Stage 3:>                                                          (0 + 1) / 1]\r"
     ]
    },
    {
     "name": "stdout",
     "output_type": "stream",
     "text": [
      "+-----------------------+--------------------+\n",
      "|complaint_what_happened|            category|\n",
      "+-----------------------+--------------------+\n",
      "|   good morning my n...|Debt collection+C...|\n",
      "|   i upgraded mycard...|Credit card or pr...|\n",
      "|   chase card was re...|Credit reporting,...|\n",
      "|   on  while trying ...|Credit reporting,...|\n",
      "|   my grand son give...|Checking or savin...|\n",
      "|   can you please re...|Credit reporting,...|\n",
      "|   with out notice j...|Checking or savin...|\n",
      "|   during the summer...|Vehicle loan or l...|\n",
      "|   oni made a  payme...|Money transfer, v...|\n",
      "|   i have a chase cr...|Credit card or pr...|\n",
      "|   mishandling of th...|Vehicle loan or l...|\n",
      "|   i have reached ou...|Credit reporting,...|\n",
      "|   i opened an accou...|Checking or savin...|\n",
      "|   to whom it may co...|Checking or savin...|\n",
      "|   my chase amazon c...|Credit card or pr...|\n",
      "|   i opened the savi...|Checking or savin...|\n",
      "|   a sofa love seat ...|Checking or savin...|\n",
      "|   my card went miss...|Checking or savin...|\n",
      "|   chase sent me an ...|Credit card or pr...|\n",
      "|   i made a purchase...|Checking or savin...|\n",
      "+-----------------------+--------------------+\n",
      "only showing top 20 rows\n",
      "\n"
     ]
    },
    {
     "name": "stderr",
     "output_type": "stream",
     "text": [
      "                                                                                \r"
     ]
    }
   ],
   "source": [
    "from pyspark.sql.functions import udf\n",
    "from pyspark.sql.types import StringType\n",
    "import re\n",
    "\n",
    "# Define a UDF to remove \"xxxx\" and any extra spaces left by the removal\n",
    "def remove_xxxx(text):\n",
    "    # Remove \"xxxx\" and any spaces left behind\n",
    "    return re.sub(r\"\\s*xxxx\\s*\", \"\", text)\n",
    "\n",
    "# Register the UDF with Spark\n",
    "remove_xxxx_udf = udf(remove_xxxx, StringType())\n",
    "\n",
    "# Apply the UDF to the 'complaint_what_happened' column\n",
    "df_cleaned = df_cleanedxx.withColumn(\"complaint_what_happened\", remove_xxxx_udf(\"complaint_what_happened\"))\n",
    "\n",
    "# Verify the column after cleaning\n",
    "df_cleaned.show()"
   ]
  },
  {
   "cell_type": "markdown",
   "id": "670cfa92",
   "metadata": {},
   "source": [
    "## Lemmatization, Stopwords, Pos Tagging, CountVectorizer.\n",
    "---"
   ]
  },
  {
   "cell_type": "code",
   "execution_count": 14,
   "id": "d43ff947",
   "metadata": {},
   "outputs": [
    {
     "name": "stdout",
     "output_type": "stream",
     "text": [
      "Warning::Spark Session already created, some configs may not take.\n",
      "lemma_antbnc download started this may take some time.\n"
     ]
    },
    {
     "name": "stderr",
     "output_type": "stream",
     "text": [
      "24/11/09 21:47:31 WARN S3AbortableInputStream: Not all bytes were read from the S3ObjectInputStream, aborting HTTP connection. This is likely an error and may result in sub-optimal behavior. Request only the bytes you need via a ranged GET or drain the input stream after use.\n"
     ]
    },
    {
     "name": "stdout",
     "output_type": "stream",
     "text": [
      "Approximate size to download 907.6 KB\n",
      "[OK!]\n",
      "pos_anc download started this may take some time.\n"
     ]
    },
    {
     "name": "stderr",
     "output_type": "stream",
     "text": [
      "24/11/09 21:47:34 WARN S3AbortableInputStream: Not all bytes were read from the S3ObjectInputStream, aborting HTTP connection. This is likely an error and may result in sub-optimal behavior. Request only the bytes you need via a ranged GET or drain the input stream after use.\n"
     ]
    },
    {
     "name": "stdout",
     "output_type": "stream",
     "text": [
      "Approximate size to download 3.9 MB\n",
      "[OK!]\n",
      "+--------------------+-----------------------+\n",
      "|          all_tokens|complaint_what_happened|\n",
      "+--------------------+-----------------------+\n",
      "|[good, morning, n...|   good morning my n...|\n",
      "|[upgrade, mycard,...|   i upgraded mycard...|\n",
      "|[chase, card, rep...|   chase card was re...|\n",
      "|[try, book, atick...|   on  while trying ...|\n",
      "|[grand, son, chec...|   my grand son give...|\n",
      "|[please, remove, ...|   can you please re...|\n",
      "|[notice, jp, morg...|   with out notice j...|\n",
      "|[summer, month, e...|   during the summer...|\n",
      "|[oni, make, payme...|   oni made a  payme...|\n",
      "|[chase, credit, c...|   i have a chase cr...|\n",
      "|[mishandle, accou...|   mishandling of th...|\n",
      "|[reach, toseveral...|   i have reached ou...|\n",
      "|[open, account, c...|   i opened an accou...|\n",
      "|[concern, chase, ...|   to whom it may co...|\n",
      "|[chase, amazon, c...|   my chase amazon c...|\n",
      "|[open, save, acco...|   i opened the savi...|\n",
      "|[sofa, love, seat...|   a sofa love seat ...|\n",
      "|[card, go, miss, ...|   my card went miss...|\n",
      "|[chase, send, ema...|   chase sent me an ...|\n",
      "|[make, purchase, ...|   i made a purchase...|\n",
      "+--------------------+-----------------------+\n",
      "only showing top 20 rows\n",
      "\n"
     ]
    }
   ],
   "source": [
    "# Import necessary packages\n",
    "import sparknlp\n",
    "from pyspark.sql import SparkSession\n",
    "from pyspark.ml import Pipeline, Transformer\n",
    "from pyspark.ml.feature import CountVectorizer, IDF\n",
    "from pyspark.ml.clustering import LDA\n",
    "from pyspark.sql.functions import udf, col, concat_ws, split\n",
    "from pyspark.sql.types import ArrayType, StringType\n",
    "from sparknlp.base import DocumentAssembler, Finisher\n",
    "from sparknlp.annotator import (\n",
    "    Tokenizer,\n",
    "    LemmatizerModel,\n",
    "    PerceptronModel,\n",
    "    StopWordsCleaner,\n",
    "    NGramGenerator\n",
    ")\n",
    "\n",
    "# Start Spark session with Spark NLP\n",
    "spark = sparknlp.start()\n",
    "\n",
    "# Load your data into a DataFrame (assuming 'df_cleaned' is your input DataFrame)\n",
    "# df_cleaned = spark.read.csv('your_data.csv', header=True, inferSchema=True)\n",
    "\n",
    "# Document Assembler\n",
    "document_assembler = DocumentAssembler() \\\n",
    "    .setInputCol(\"complaint_what_happened\") \\\n",
    "    .setOutputCol(\"document\")\n",
    "\n",
    "# Tokenizer\n",
    "tokenizer = Tokenizer() \\\n",
    "    .setInputCols([\"document\"]) \\\n",
    "    .setOutputCol(\"token\")\n",
    "\n",
    "# Stop Words Remover\n",
    "stop_words_cleaner = StopWordsCleaner() \\\n",
    "    .setInputCols([\"token\"]) \\\n",
    "    .setOutputCol(\"cleanTokens\") \\\n",
    "    .setCaseSensitive(False)\n",
    "\n",
    "# Lemmatizer (before NGramGenerator)\n",
    "lemmatizer = LemmatizerModel.pretrained() \\\n",
    "    .setInputCols([\"cleanTokens\"]) \\\n",
    "    .setOutputCol(\"lemmaTokens\")\n",
    "\n",
    "# NGramGenerator (uses lemmatized tokens)\n",
    "ngram = NGramGenerator() \\\n",
    "    .setN(2) \\\n",
    "    .setInputCols([\"lemmaTokens\"]) \\\n",
    "    .setOutputCol(\"bigrams\")\n",
    "\n",
    "# POS Tagger (uses bigrams from lemmatized tokens)\n",
    "pos_tagger = PerceptronModel.pretrained() \\\n",
    "    .setInputCols([\"document\", \"lemmaTokens\"]) \\\n",
    "    .setOutputCol(\"pos\")\n",
    "\n",
    "# Finisher to extract results from annotations, including bigrams\n",
    "finisher = Finisher() \\\n",
    "    .setInputCols([\"lemmaTokens\", \"bigrams\", \"pos\"]) \\\n",
    "    .setOutputCols([\"finished_lemma\", \"finished_bigrams\", \"finished_pos\"]) \\\n",
    "    .setCleanAnnotations(False)\n",
    "\n",
    "# Custom Transformer to extract specific parts of speech\n",
    "class POSExtractor(Transformer):\n",
    "    def __init__(self, inputColPOS=None, inputColLemma=None, outputCol=None):\n",
    "        super(POSExtractor, self).__init__()\n",
    "        self.inputColPOS = inputColPOS\n",
    "        self.inputColLemma = inputColLemma\n",
    "        self.outputCol = outputCol\n",
    "\n",
    "    def _transform(self, dataset):\n",
    "        def extract_pos(pos_tags, lemmas):\n",
    "            allowed_tags = ['NN', 'JJ', 'VB', 'RB']  # Nouns, Adjectives, Verbs, Adverbs\n",
    "            return [lemma for pos, lemma in zip(pos_tags, lemmas) if pos in allowed_tags]\n",
    "        \n",
    "        extract_pos_udf = udf(extract_pos, ArrayType(StringType()))\n",
    "        return dataset.withColumn(self.outputCol, extract_pos_udf(col(self.inputColPOS), col(self.inputColLemma)))\n",
    "\n",
    "# Instantiate custom transformer\n",
    "pos_extractor = POSExtractor(\n",
    "    inputColPOS=\"finished_pos\",\n",
    "    inputColLemma=\"finished_lemma\",\n",
    "    outputCol=\"selected_tokens\"\n",
    ")\n",
    "\n",
    "# Build the updated pipeline\n",
    "pipeline = Pipeline(stages=[\n",
    "    document_assembler,\n",
    "    tokenizer,\n",
    "    stop_words_cleaner,\n",
    "    lemmatizer,\n",
    "    ngram,\n",
    "    pos_tagger,\n",
    "    finisher,\n",
    "    pos_extractor\n",
    "])\n",
    "\n",
    "# Fit and transform the data\n",
    "pipeline_model = pipeline.fit(df_cleaned)\n",
    "df_final = pipeline_model.transform(df_cleaned)\n",
    "\n",
    "# Combine unigrams and bigrams\n",
    "df_final = df_final.withColumn(\n",
    "    \"all_tokens\",\n",
    "    split(\n",
    "        concat_ws(\" \", col(\"selected_tokens\"), concat_ws(\" \", col(\"finished_bigrams\"))),\n",
    "        \" \"\n",
    "    )\n",
    ")\n",
    "\n",
    "df_final.select(\"all_tokens\",\"complaint_what_happened\").show()"
   ]
  },
  {
   "cell_type": "code",
   "execution_count": 11,
   "id": "918671cc",
   "metadata": {},
   "outputs": [
    {
     "name": "stderr",
     "output_type": "stream",
     "text": [
      "                                                                                \r"
     ]
    },
    {
     "name": "stdout",
     "output_type": "stream",
     "text": [
      "+------------------------------------------------------------------------------------------------------------------------------------------------------------------------------------------------------------------------------------------------------------------------------------------------------------------------------------------------------------------------------------------------------------------------------------------------------------------------------------------------------------------------------------------------------------------------------------------------------------------------------------------------------------------------------------------------------------------------------------------------------------------------------------------------------------------------------------------------------------------------------------------------------------------------------------------------------------------------------------------------------------------------------------------------------------------------------------------------------------------------------------------------------------------------------------------------------------------------------------------------------------------------------------------------------------------------------------------------------------------------------------------------------------------------------------------------------------------------------------------------------------------------------------------------------------------------------------------------------------------------------------------------------------------------------------------------------------------------------------------------------------------------------------------------------------------------------------------------------------------------------------------------------------------------------------------------------------------------------------------------------------------------------------------------------------------------------------------------------------------------------------------------------------------------------------------------------------------------------------------------------------------------------------------------------------------------------------------------------------------------------------------------------------------------------------------------------------------------------------------------------------------------------------------------------------------------------------------------------------------------------------------------------------------------------------------------------------------------------------------------------------------------------------------------------------------------------------------------------------------------------------------------------------------------------------------------------------------------------------------------------------------------------------------------------------------------------------------------------------------------------------------------------------------------------------------------------------------------------------------------------------------------------------------------------------------------------------------------------------------------------------------------------------------------------------------------------------------------------------------------------------------------------------------------------------------------------------------------------------------------------------------------------------------------------------------------------------------------------------------------------------------------------------------------------------------------------------------------------------------------------------------------------------------------------------------------------------------------------------------------------------------------------------------------------------------------------------------------------------------------------------------------------------------------------------------------------------------------------------------------------------------------------------------------------------------------------------------------------------------------------------------------------------------------------------------------------------------------------------------------------------------------------------------------------------------------------------------------------------------------------------------------------------------------------------------------------------------------------------------------------------------------------------------------------------------------------------------------------------------------------------------------------------------------------------------------------------------------------------------------------------------------------------------------------------------------------------------------------------------------------------------------------------------------------------------------------------------------------------------------------------------------------------------------------------------------------------------------------------------------------------------------------------------------------------------------------------------------------------------------------------------------------------------------------------------------------------------------------------------------------------------------------------------------------------------------------------------------------------------------------------------------------------------------------------------------------------------------------------------------------------------------------------------------------------------------------------------------------------------------------------------------------------------------------------------------------------------------------------------------------------------------------------------------------------------------------------------------------------------------------------------------------------------------------------------------------------------------------------------------------------------------------------------------------------------------------------------------------------------------------------------------------------------------------------------------------------------------------------------------------------------------------------------------------------------------------------------------------------------------------------------------------------------------------------------------------------------+------------------------------------------------------------------------------------------------------------------------------------------------------------------------------------------------------------------------------------------------------------------------------------------------------------------------------------------------------------------------------------------------------------------------------------------------------------------------------------------------------------------------------------------------------------------------------------------------------------------------------------------------------------------------------------------------------------------------------------------------------------------------------------------------------------------------------------------------------------------------------------------------------------------------------------------------------------------------------------------------------------------------------------------------------------------------------------------------------------------------------------------------------------------------------------------------------------------------------------------------------------------------------------------------------------------------------------------------------------------------------------------------------------------------------------------------------------------------------------------------------------------------------------------------------------------------------------------------------------------------------------------------------------------------------------------------------------------------------------------------------------------------------------------------------------------------------------------------------------------------------------------------------------------------------------------------------------------------------------------------------------------------------------------------------------------------------------------------------------------------------------------------------------------------------------------------------------------------------------------------------------------------------------------------------------------------------------------------------------------------------------------------------------------------------------------------------------------------------------------------------------------------------------------------------------------------------------------------------------------------------------------------------------------------------------------------------------------------------------------------------------------------------------------------------------------------------------------------------------------------------------------------------------------------------------------------------------------------------------------------------------------------------------------------------------------------------------------------------------------------------------------------------------------------------------------------------------------------------------------------------------------------------------------------------------------------------------------------------------------------------------------------------------------------------------------------------------------------------------------------------------------------------------------------+\n",
      "|all_tokens                                                                                                                                                                                                                                                                                                                                                                                                                                                                                                                                                                                                                                                                                                                                                                                                                                                                                                                                                                                                                                                                                                                                                                                                                                                                                                                                                                                                                                                                                                                                                                                                                                                                                                                                                                                                                                                                                                                                                                                                                                                                                                                                                                                                                                                                                                                                                                                                                                                                                                                                                                                                                                                                                                                                                                                                                                                                                                                                                                                                                                                                                                                                                                                                                                                                                                                                                                                                                                                                                                                                                                                                                                                                                                                                                                                                                                                                                                                                                                                                                                                                                                                                                                                                                                                                                                                                                                                                                                                                                                                                                                                                                                                                                                                                                                                                                                                                                                                                                                                                                                                                                                                                                                                                                                                                                                                                                                                                                                                                                                                                                                                                                                                                                                                                                                                                                                                                                                                                                                                                                                                                                                                                                                                                                                                                                                                                                                                                                                                                                                                                                                                                                                                                                                                                                                                                                                |complaint_what_happened                                                                                                                                                                                                                                                                                                                                                                                                                                                                                                                                                                                                                                                                                                                                                                                                                                                                                                                                                                                                                                                                                                                                                                                                                                                                                                                                                                                                                                                                                                                                                                                                                                                                                                                                                                                                                                                                                                                                                                                                                                                                                                                                                                                                                                                                                                                                                                                                                                                                                                                                                                                                                                                                                                                                                                                                                                                                                                                                                                                                                                                                                                                                                                                                                                                                                                                                                                                                                                                                                                                         |\n",
      "+------------------------------------------------------------------------------------------------------------------------------------------------------------------------------------------------------------------------------------------------------------------------------------------------------------------------------------------------------------------------------------------------------------------------------------------------------------------------------------------------------------------------------------------------------------------------------------------------------------------------------------------------------------------------------------------------------------------------------------------------------------------------------------------------------------------------------------------------------------------------------------------------------------------------------------------------------------------------------------------------------------------------------------------------------------------------------------------------------------------------------------------------------------------------------------------------------------------------------------------------------------------------------------------------------------------------------------------------------------------------------------------------------------------------------------------------------------------------------------------------------------------------------------------------------------------------------------------------------------------------------------------------------------------------------------------------------------------------------------------------------------------------------------------------------------------------------------------------------------------------------------------------------------------------------------------------------------------------------------------------------------------------------------------------------------------------------------------------------------------------------------------------------------------------------------------------------------------------------------------------------------------------------------------------------------------------------------------------------------------------------------------------------------------------------------------------------------------------------------------------------------------------------------------------------------------------------------------------------------------------------------------------------------------------------------------------------------------------------------------------------------------------------------------------------------------------------------------------------------------------------------------------------------------------------------------------------------------------------------------------------------------------------------------------------------------------------------------------------------------------------------------------------------------------------------------------------------------------------------------------------------------------------------------------------------------------------------------------------------------------------------------------------------------------------------------------------------------------------------------------------------------------------------------------------------------------------------------------------------------------------------------------------------------------------------------------------------------------------------------------------------------------------------------------------------------------------------------------------------------------------------------------------------------------------------------------------------------------------------------------------------------------------------------------------------------------------------------------------------------------------------------------------------------------------------------------------------------------------------------------------------------------------------------------------------------------------------------------------------------------------------------------------------------------------------------------------------------------------------------------------------------------------------------------------------------------------------------------------------------------------------------------------------------------------------------------------------------------------------------------------------------------------------------------------------------------------------------------------------------------------------------------------------------------------------------------------------------------------------------------------------------------------------------------------------------------------------------------------------------------------------------------------------------------------------------------------------------------------------------------------------------------------------------------------------------------------------------------------------------------------------------------------------------------------------------------------------------------------------------------------------------------------------------------------------------------------------------------------------------------------------------------------------------------------------------------------------------------------------------------------------------------------------------------------------------------------------------------------------------------------------------------------------------------------------------------------------------------------------------------------------------------------------------------------------------------------------------------------------------------------------------------------------------------------------------------------------------------------------------------------------------------------------------------------------------------------------------------------------------------------------------------------------------------------------------------------------------------------------------------------------------------------------------------------------------------------------------------------------------------------------------------------------------------------------------------------------------------------------------------------------------------------------------------------------------------------------------+------------------------------------------------------------------------------------------------------------------------------------------------------------------------------------------------------------------------------------------------------------------------------------------------------------------------------------------------------------------------------------------------------------------------------------------------------------------------------------------------------------------------------------------------------------------------------------------------------------------------------------------------------------------------------------------------------------------------------------------------------------------------------------------------------------------------------------------------------------------------------------------------------------------------------------------------------------------------------------------------------------------------------------------------------------------------------------------------------------------------------------------------------------------------------------------------------------------------------------------------------------------------------------------------------------------------------------------------------------------------------------------------------------------------------------------------------------------------------------------------------------------------------------------------------------------------------------------------------------------------------------------------------------------------------------------------------------------------------------------------------------------------------------------------------------------------------------------------------------------------------------------------------------------------------------------------------------------------------------------------------------------------------------------------------------------------------------------------------------------------------------------------------------------------------------------------------------------------------------------------------------------------------------------------------------------------------------------------------------------------------------------------------------------------------------------------------------------------------------------------------------------------------------------------------------------------------------------------------------------------------------------------------------------------------------------------------------------------------------------------------------------------------------------------------------------------------------------------------------------------------------------------------------------------------------------------------------------------------------------------------------------------------------------------------------------------------------------------------------------------------------------------------------------------------------------------------------------------------------------------------------------------------------------------------------------------------------------------------------------------------------------------------------------------------------------------------------------------------------------------------------------------------------------------+\n",
      "|[good, morning, name, isand, appreciate, help, put, stop, chase, bank, cardmember, service, write, chase, ask, debt, verification, send, statement, acceptable, ask, bank, validate, debt, instead, receive, mail, month, attempt, collect, debt, right, know, information, consumer, chase, advance, help, good, morning, morning, name, name, isand, isand, appreciate, appreciate, help, help, put, put, stop, stop, chase, chase, bank, bank, cardmember, cardmember, service, service, write, write, chase, chase, ask, ask, debt, debt, verification, verification, send, send, statement, statement, acceptable, acceptable, ask, ask, bank, bank, validate, validate, debt, debt, instead, instead, receive, receive, mail, mail, every, every, month, month, attempt, attempt, collect, collect, debt, debt, right, right, know, know, information, information, consumer, consumer, chase, chase, accountthanks, accountthanks, advance, advance, help]                                                                                                                                                                                                                                                                                                                                                                                                                                                                                                                                                                                                                                                                                                                                                                                                                                                                                                                                                                                                                                                                                                                                                                                                                                                                                                                                                                                                                                                                                                                                                                                                                                                                                                                                                                                                                                                                                                                                                                                                                                                                                                                                                                                                                                                                                                                                                                                                                                                                                                                                                                                                                                                                                                                                                                                                                                                                                                                                                                                                                                                                                                                                                                                                                                                                                                                                                                                                                                                                                                                                                                                                                                                                                                                                                                                                                                                                                                                                                                                                                                                                                                                                                                                                                                                                                                                                                                                                                                                                                                                                                                                                                                                                                                                                                                                                                                                                                                                                                                                                                                                                                                                                                                                                                                                                                                                                                                                                                                                                                                                                                                                                                                                                                                                                                                                                                                                                         |good morning my name isand i appreciate it if you could help me put a stop to chase bank cardmember services \\nin  i wrote to chase asking for debt verification and what they sent me a statement which is not acceptable i am asking the bank to validate the debt instead i been receiving mail every month from them attempting to collect a debt \\ni have a right to know this information as a consumer \\n\\nchase accountthanks in advance for your help                                                                                                                                                                                                                                                                                                                                                                                                                                                                                                                                                                                                                                                                                                                                                                                                                                                                                                                                                                                                                                                                                                                                                                                                                                                                                                                                                                                                                                                                                                                                                                                                                                                                                                                                                                                                                                                                                                                                                                                                                                                                                                                                                                                                                                                                                                                                                                                                                                                                                                                                                                                                                                                                                                                                                                                                                                                                                                                                                                                                                                                                                  |\n",
      "|[upgrade, mycard, tell, agent, upgrade, anniversary, date, change, turn, agent, give, wrong, information, order, upgrade, anniversary, date, fromtowithout, consenthas, record, agent, mislead, upgrade, mycard, mycard, tell, tell, agent, agent, upgrade, upgrade, anniversary, anniversary, date, date, change, change, turn, turn, agent, agent, give, give, wrong, wrong, information, information, order, order, upgrade, upgrade, accountchanged, accountchanged, anniversary, anniversary, date, date, fromtowithout, fromtowithout, consenthas, consenthas, record, record, agent, agent, mislead]                                                                                                                                                                                                                                                                                                                                                                                                                                                                                                                                                                                                                                                                                                                                                                                                                                                                                                                                                                                                                                                                                                                                                                                                                                                                                                                                                                                                                                                                                                                                                                                                                                                                                                                                                                                                                                                                                                                                                                                                                                                                                                                                                                                                                                                                                                                                                                                                                                                                                                                                                                                                                                                                                                                                                                                                                                                                                                                                                                                                                                                                                                                                                                                                                                                                                                                                                                                                                                                                                                                                                                                                                                                                                                                                                                                                                                                                                                                                                                                                                                                                                                                                                                                                                                                                                                                                                                                                                                                                                                                                                                                                                                                                                                                                                                                                                                                                                                                                                                                                                                                                                                                                                                                                                                                                                                                                                                                                                                                                                                                                                                                                                                                                                                                                                                                                                                                                                                                                                                                                                                                                                                                                                                                                                               |i upgraded mycard in  and was told by the agent who did the upgrade my anniversary date would not change it turned the agent was giving me the wrong information in order to upgrade the accountchanged my anniversary date fromtowithout my consenthas the recording of the agent who was misled me                                                                                                                                                                                                                                                                                                                                                                                                                                                                                                                                                                                                                                                                                                                                                                                                                                                                                                                                                                                                                                                                                                                                                                                                                                                                                                                                                                                                                                                                                                                                                                                                                                                                                                                                                                                                                                                                                                                                                                                                                                                                                                                                                                                                                                                                                                                                                                                                                                                                                                                                                                                                                                                                                                                                                                                                                                                                                                                                                                                                                                                                                                                                                                                                                                            |\n",
      "|[chase, card, report, however, fraudulent, application, submit, identity, consent, fraudulently, obtain, service, extend, credit, verify, identity, applicant, chase, card, card, report, report, however, however, fraudulent, fraudulent, application, application, submit, submit, identity, identity, without, without, consent, consent, fraudulently, fraudulently, obtain, obtain, service, service, extend, extend, credit, credit, without, without, verify, verify, identity, identity, applicant]                                                                                                                                                                                                                                                                                                                                                                                                                                                                                                                                                                                                                                                                                                                                                                                                                                                                                                                                                                                                                                                                                                                                                                                                                                                                                                                                                                                                                                                                                                                                                                                                                                                                                                                                                                                                                                                                                                                                                                                                                                                                                                                                                                                                                                                                                                                                                                                                                                                                                                                                                                                                                                                                                                                                                                                                                                                                                                                                                                                                                                                                                                                                                                                                                                                                                                                                                                                                                                                                                                                                                                                                                                                                                                                                                                                                                                                                                                                                                                                                                                                                                                                                                                                                                                                                                                                                                                                                                                                                                                                                                                                                                                                                                                                                                                                                                                                                                                                                                                                                                                                                                                                                                                                                                                                                                                                                                                                                                                                                                                                                                                                                                                                                                                                                                                                                                                                                                                                                                                                                                                                                                                                                                                                                                                                                                                                              |chase card was reported on  however fraudulent application have been submitted my identity without my consent to fraudulently obtain services do not extend credit without verifying the identity of the applicant                                                                                                                                                                                                                                                                                                                                                                                                                                                                                                                                                                                                                                                                                                                                                                                                                                                                                                                                                                                                                                                                                                                                                                                                                                                                                                                                                                                                                                                                                                                                                                                                                                                                                                                                                                                                                                                                                                                                                                                                                                                                                                                                                                                                                                                                                                                                                                                                                                                                                                                                                                                                                                                                                                                                                                                                                                                                                                                                                                                                                                                                                                                                                                                                                                                                                                                              |\n",
      "|[try, book, aticket, come, offer, apply, ticket, apply, reward, card, put, information, offer, minute, notify, screen, decision, make, immediately, contactedand, chase, bank, immediately, contact, chase, bank, get, notification, screen, tell, chase, representative, speak, application, deny, state, ask, information, theoffer, explain, even, approve, credit, offer, get, apply, first, account, statement, use, purchase, ticket, explicitly, tell, glad, get, deny, absolutely, long, interest, account, ask, application, withdraw, representative, happen, late, put, application, explicit, request, proceed, application, contrary, tell, chase, representative, chase, fact, go, ahead, open, credit, account, name, report, credit, report, chase, refuse, correct, information, credit, report, even, go, ahead, process, application, consent, error, try, book, book, aticket, aticket, come, come, across, across, offer, offer, apply, apply, towards, towards, ticket, ticket, apply, apply, reward, reward, card, card, put, put, information, information, offer, offer, within, within, less, less, minute, minute, notify, notify, via, via, screen, screen, decision, decision, make, make, immediately, immediately, contactedand, contactedand, refer, refer, chase, chase, bank, bank, immediately, immediately, contact, contact, chase, chase, bank, bank, within, within, get, get, notification, notification, screen, screen, tell, tell, chase, chase, representative, representative, speak, speak, application, application, deny, deny, state, state, ask, ask, information, information, theoffer, theoffer, explain, explain, even, even, approve, approve, credit, credit, offer, offer, get, get, apply, apply, first, first, account, account, statement, statement, use, use, purchase, purchase, ticket, ticket, explicitly, explicitly, tell, tell, glad, glad, get, get, deny, deny, absolutely, absolutely, long, long, interest, interest, account, account, ask, ask, application, application, withdraw, withdraw, representative, representative, obliged, obliged, happen, happen, late, late, put, put, application, application, notwithstanding, notwithstanding, explicit, explicit, request, request, proceed, proceed, application, application, contrary, contrary, tell, tell, chase, chase, representative, representative, chase, chase, fact, fact, go, go, ahead, ahead, open, open, credit, credit, account, account, name, name, report, report, credit, credit, report, report, chase, chase, refuse, refuse, correct, correct, information, information, credit, credit, report, report, even, even, though, though, go, go, ahead, ahead, process, process, application, application, consent, consent, error]                                                                                                                                                                                                                                                                                                                                                                                                                                                                                                                                                                                                                                                                                                                                                                                                                                                                                                                                                                                                                                                                                                                                                                                                                                                                                                                                                                                                                                                                                                                                                                                                                                                                                                                                                                                                                                                                                                                                                                                                                                                                                                                                                                                                                                                                                                                                                                                                                                                                                                                                                                                                                                                                                                                                                                                                                                                                                                                                                                                                                                                                                                                                                                                                                                                                                                                                                                                                                                                                                                                                                                                                                                                                                                                                                                                                                                                                                                                                                                                                                                                    |on  while trying to book aticket i came across an offer for  to be applied towards the ticket if i applied for a rewards card i put in my information for the offer and within less than a minute was notified via the screen that a decision could not be made i immediately contactedand was referred to chase bank i then immediately contacted chase bank within no more than  of getting the notification on the screen and i was told by the chase representative i spoke with that my application was denied but she could not state why i asked for more information about theoffer and she explained that even if i had been approved the credit offer only gets applied after the first account statement and could not be used to purchase the ticket i then explicitly told her i was glad i got denied and i was absolutely no longer interested in the account i asked that the application be withdrawn and the representative obliged this all happened no later than  after putting in the application on  notwithstanding my explicit request not to proceed with the application and contrary to what i was told by the chase representative chase did in fact go ahead to open a credit account in my name on  this is now being reported in my credit report and chase has refused to correct this information on my credit report even though they went ahead to process an application which i did not consent to and out of their error                                                                                                                                                                                                                                                                                                                                                                                                                                                                                                                                                                                                                                                                                                                                                                                                                                                                                                                                                                                                                                                                                                                                                                                                                                                                                                                                                                                                                                                                                                                                                                                                                                                                                                                                                                                                                                                                                                                                                                                                                                                                                 |\n",
      "|[grand, son, check, deposit, chase, account, fund, clear, chase, bank, close, account, never, pay, money, speek, grand, son, check, clear, money, take, chase, bank, refuse, pay, money, grand, son, call, chase, time, tell, call, verify, check, owner, country, time, date, happen, check, numberclaim, number, iswith, chase, grand, son, son, give, give, check, check, deposit, deposit, chase, chase, account, account, fund, fund, clear, clear, chase, chase, bank, bank, close, close, account, account, never, never, pay, pay, money, money, say, say, need, need, speek, speek, grand, grand, son, son, check, check, clear, clear, money, money, take, take, chase, chase, bank, bank, refuse, refuse, pay, pay, money, money, grand, grand, son, son, call, call, chase, chase, time, time, tell, tell, call, call, verify, verify, check, check, owner, owner, country, country, time, time, date, date, happen, happen, check, check, numberclaim, numberclaim, number, number, iswith, iswith, chase]                                                                                                                                                                                                                                                                                                                                                                                                                                                                                                                                                                                                                                                                                                                                                                                                                                                                                                                                                                                                                                                                                                                                                                                                                                                                                                                                                                                                                                                                                                                                                                                                                                                                                                                                                                                                                                                                                                                                                                                                                                                                                                                                                                                                                                                                                                                                                                                                                                                                                                                                                                                                                                                                                                                                                                                                                                                                                                                                                                                                                                                                                                                                                                                                                                                                                                                                                                                                                                                                                                                                                                                                                                                                                                                                                                                                                                                                                                                                                                                                                                                                                                                                                                                                                                                                                                                                                                                                                                                                                                                                                                                                                                                                                                                                                                                                                                                                                                                                                                                                                                                                                                                                                                                                                                                                                                                                                                                                                                                                                                                                                                                                                                                                                                                                                                                                                   |my grand son give me check for  i deposit it into my chase account after fund clear my chase bank closed my account never paid me my money they said they need to speek with my grand son check was clear money was taking by my chase bank refuse to pay me my money my grand son called chase  times they told him i should call not him to verify the check owner he is out the country most the time  date happen  check numberclaim number iswith chase                                                                                                                                                                                                                                                                                                                                                                                                                                                                                                                                                                                                                                                                                                                                                                                                                                                                                                                                                                                                                                                                                                                                                                                                                                                                                                                                                                                                                                                                                                                                                                                                                                                                                                                                                                                                                                                                                                                                                                                                                                                                                                                                                                                                                                                                                                                                                                                                                                                                                                                                                                                                                                                                                                                                                                                                                                                                                                                                                                                                                                                                                    |\n",
      "|[please, remove, inquiry, please, remove, remove, inquiry]                                                                                                                                                                                                                                                                                                                                                                                                                                                                                                                                                                                                                                                                                                                                                                                                                                                                                                                                                                                                                                                                                                                                                                                                                                                                                                                                                                                                                                                                                                                                                                                                                                                                                                                                                                                                                                                                                                                                                                                                                                                                                                                                                                                                                                                                                                                                                                                                                                                                                                                                                                                                                                                                                                                                                                                                                                                                                                                                                                                                                                                                                                                                                                                                                                                                                                                                                                                                                                                                                                                                                                                                                                                                                                                                                                                                                                                                                                                                                                                                                                                                                                                                                                                                                                                                                                                                                                                                                                                                                                                                                                                                                                                                                                                                                                                                                                                                                                                                                                                                                                                                                                                                                                                                                                                                                                                                                                                                                                                                                                                                                                                                                                                                                                                                                                                                                                                                                                                                                                                                                                                                                                                                                                                                                                                                                                                                                                                                                                                                                                                                                                                                                                                                                                                                                                                |can you please remove inquiry                                                                                                                                                                                                                                                                                                                                                                                                                                                                                                                                                                                                                                                                                                                                                                                                                                                                                                                                                                                                                                                                                                                                                                                                                                                                                                                                                                                                                                                                                                                                                                                                                                                                                                                                                                                                                                                                                                                                                                                                                                                                                                                                                                                                                                                                                                                                                                                                                                                                                                                                                                                                                                                                                                                                                                                                                                                                                                                                                                                                                                                                                                                                                                                                                                                                                                                                                                                                                                                                                                                   |\n",
      "|[notice, jp, morgan, chase, restrict, account, debit, card, go, branch, advise, customer, service, representative, account, actually, close, go, branch, remove, fund, currently, well, direct, deposit, place, employment, return, bank, associate, customer, service, representative, assure, fund, post, take, additional, business, day, attempt, go, branch, yet, retrieve, fund, actually, post, friday, look, account, realize, fund, reverse, long, present, current, statement, ive, call, tell, take, business, day, state, tuesdaywould, date, fund, available, withdraw, bank, teller, chase, inform, mail, check, business, day, recover, fund, owe, leave, account, currently, unfortunately, put, additional, financial, bind, fee, late, rent, late, car, payment, short, give, write, notice, thing, actually, occur, peace, mind, fact, chase, handle, situation, grossly, even, bank, teller, inform, account, look, suspicious, give, suspicious, look, know, chase, reserve, right, close, account, time, protocol, past, give, notice, form, write, document, shore, give, write, notice, thing, actually, occur, peace, mind, fact, chase, handle, situation, grossly, even, bank, teller, inform, account, look, suspicious, give, suspicious, look, know, chase, reserve, right, close, account, time, protocol, past, give, notice, form, write, document, situation, truly, affect, livelihood, dont, deal, professionally, thank, notice, jp, jp, morgan, morgan, chase, chase, restrict, restrict, account, account, debit, debit, card, card, tuesday, tuesday, thursday, thursday, go, go, branch, branch, advise, advise, customer, customer, service, service, representative, representative, account, account, actually, actually, close, close, go, go, branch, branch, see, see, remove, remove, fund, fund, currently, currently, well, well, direct, direct, deposit, deposit, place, place, employment, employment, return, return, bank, bank, associate, associate, customer, customer, service, service, representative, representative, assure, assure, fund, fund, post, post, may, may, take, take, additional, additional, business, business, day, day, saturday, saturday, attempt, attempt, go, go, inside, inside, branch, branch, yet, yet, retrieve, retrieve, fund, fund, actually, actually, post, post, friday, friday, upon, upon, look, look, account, account, realize, realize, fund, fund, reverse, reverse, long, long, present, present, current, current, statement, statement, ive, ive, call, call, tell, tell, may, may, take, take, two, two, business, business, day, day, state, state, tuesdaywould, tuesdaywould, date, date, fund, fund, available, available, withdraw, withdraw, bank, bank, teller, teller, chase, chase, inform, inform, mail, mail, check, check, three, three, business, business, day, day, recover, recover, fund, fund, owe, owe, leave, leave, account, account, currently, currently, unfortunately, unfortunately, put, put, additional, additional, financial, financial, bind, bind, two, two, fee, fee, late, late, rent, rent, late, late, car, car, payment, payment, etc, etc, short, short, give, give, write, write, notice, notice, thing, thing, actually, actually, occur, occur, peace, peace, mind, mind, fact, fact, chase, chase, handle, handle, situation, situation, grossly, grossly, even, even, bank, bank, teller, teller, inform, inform, account, account, look, look, suspicious, suspicious, give, give, suspicious, suspicious, look, look, although, although, know, know, chase, chase, reserve, reserve, right, right, close, close, account, account, time, time, believe, believe, protocol, protocol, past, past, give, give, notice, notice, form, form, write, write, document, document, shore, shore, give, give, write, write, notice, notice, thing, thing, actually, actually, occur, occur, peace, peace, mind, mind, fact, fact, chase, chase, handle, handle, situation, situation, grossly, grossly, even, even, bank, bank, teller, teller, inform, inform, account, account, look, look, suspicious, suspicious, give, give, suspicious, suspicious, look, look, although, although, know, know, chase, chase, reserve, reserve, right, right, close, close, account, account, time, time, believe, believe, protocol, protocol, past, past, give, give, notice, notice, form, form, write, write, document, document, situation, situation, truly, truly, affect, affect, livelihood, livelihood, dont, dont, seem, seem, want, want, deal, deal, professionally, professionally, thank]                                                                                                                                                                                                                                                                                                                                                                                                                                                                                                                                                                                                                                                                                                                                                                                                                                                                                                                                                                                                                                                                                                                                                                                                                                                                                                                                                                                                                                                                                                                                                                                                                                                                                                                                                                                                                                                                                                                                                                                                                                                                                                                                                                                              |with out notice jp morgan chase restricted my account by my debit card tuesday  on thursday  i went into a branch after being advised by a customer service representative that my account would actually be closed i went into the branch to see how i can remove the funds that are in there currently in as well as if my direct deposit from my place of employment would be returned the bank associate and the customer service representative assured me that the funds would post but they may take an additional business day that saturday i attempted to go inside of a branch yet again to retrieve my funds that actually did post on friday  upon looking at my account i realize that the funds have been reversed and no longer were present on my current statement ive been called and i was told that it may take two business day stating tuesdaywould be the date that my funds would be available to withdraw from a bank teller only now chase is informing me that i will be mailed a check into the three business days to recover the funds that are owed to me and left in my account currently unfortunately this has put me in an additional financial bind do two fees from late rent late car payments etc i am not being a short or giving written notice that these things will actually occur so that i have peace of mind in fact chase has handled my situation grossly i even had a bank teller inform me that my account looks suspicious after giving me a suspicious look myself although i know that chase reserves the right to close my account at any time i do believe that their protocol has been in the past to give notice in the form of a written document i am not being a shored or giving written notice that these things will actually occur so that i have peace of mind in fact chase has handled my situation grossly i even had a bank teller inform me that my account looks suspicious after giving me a suspicious look myself although i know that chase reserves the right to close my account at any time i do believe that their protocol has been in the past to give notice in the form of a written document this situation is truly affecting my livelihood and they dont seem to want to deal with me professionally thank you                                                                                                                                                                                                                                                                                                                                                                                                                                                                                                                                                                                                                                                                                                                                                                                                                                                                                                                                                                                                                                                                                                                                                                                                                                          |\n",
      "|[summer, month, experience, decline, income, due, employment, therefore, request, month, payment, extension, auto, loan, company, chase, past, almost, year, request, payment, extension, grant, never, delinquent, auto, loan, payment, however, request, month, payment, extension, deny, year, explain, situation, representative, supervisor, avail, lengthy, discussion, wait, inform, reason, decline, contractual, reason, denial, baffle, therefore, emailed, office, ofexecutive, director, communication, jpmorgan, chase, co, representative, contact, state, chase, followup, week, late, representative, ofoffice, call, representative, share, role, help, resolve, matter, representative, conference, call, contact, department, hand, request, review, information, request, still, deny, base, policy, change, request, explanation, representative, state, letter, mail, explanation, reason, denial, policy, change, cfpb, help, explore, denial, payment, extension, request, especially, clear, reason, denial, summer, month, month, experience, experience, decline, decline, income, income, due, due, employment, employment, therefore, therefore, request, request, one, one, month, month, payment, payment, extension, extension, auto, auto, loan, loan, company, company, chase, chase, past, past, almost, almost, fours, fours, year, year, request, request, payment, payment, extension, extension, grant, grant, never, never, delinquent, delinquent, auto, auto, loan, loan, payment, payment, however, however, request, request, one, one, month, month, payment, payment, extension, extension, deny, deny, year, year, explain, explain, situation, situation, representative, representative, supervisor, supervisor, avail, avail, lengthy, lengthy, discussion, discussion, wait, wait, inform, inform, reason, reason, decline, decline, contractual, contractual, reason, reason, denial, denial, baffle, baffle, therefore, therefore, emailed, emailed, office, office, ofexecutive, ofexecutive, director, director, communication, communication, jpmorgan, jpmorgan, chase, chase, co, co, representative, representative, contact, contact, state, state, chase, chase, followup, followup, week, week, late, late, representative, representative, ofoffice, ofoffice, call, call, representative, representative, share, share, role, role, help, help, resolve, resolve, matter, matter, representative, representative, via, via, conference, conference, call, call, contact, contact, department, department, hand, hand, request, request, review, review, information, information, request, request, still, still, deny, deny, base, base, policy, policy, change, change, request, request, explanation, explanation, representative, representative, state, state, letter, letter, mail, mail, explanation, explanation, receivedletters, receivedletters, reason, reason, denial, denial, policy, policy, change, change, like, like, cfpb, cfpb, help, help, explore, explore, denial, denial, payment, payment, extension, extension, request, request, especially, especially, since, since, clear, clear, reason, reason, denial]                                                                                                                                                                                                                                                                                                                                                                                                                                                                                                                                                                                                                                                                                                                                                                                                                                                                                                                                                                                                                                                                                                                                                                                                                                                                                                                                                                                                                                                                                                                                                                                                                                                                                                                                                                                                                                                                                                                                                                                                                                                                                                                                                                                                                                                                                                                                                                                                                                                                                                                                                                                                                                                                                                                                                                                                                                                                                                                                                                                                                                                                                                                                                                                                                                                                                                                                                                                                                                                                                                                                                                                                                                   |during the summer months i experience a decline income due to my employment therefore i request a one month payment extension with my auto loan company chase for the past almost fours years my request for payment extension is granted i have never been delinquent with my auto loan payment however on  my request for a one month payment extension was denied this year i explained my situation to representative and the supervisor with no avail after a lengthy discussion and waiting i was informed the reason for the decline as it is not  contractual  this reason for denial baffled me and therefore i emailed the office ofexecutive director communications jpmorgan chase  co a representative contacted me and stated chase will followup about week later a representative ofoffice called the representative shared her role was help resolve the matter the representative via conference call contacted the department handing my request after reviewing my information my request was still denied based on  policy changes  i requested an explanation and representative stated a letter will be mailed with explanation i have receivedletters the reason for denial was not  policy changes  i would like cfpb help in exploring the denial of my payment extension request especially since i have been clear reason for denial                                                                                                                                                                                                                                                                                                                                                                                                                                                                                                                                                                                                                                                                                                                                                                                                                                                                                                                                                                                                                                                                                                                                                                                                                                                                                                                                                                                                                                                                                                                                                                                                                                                                                                                                                                                                                                                                                                                                                                                                                                                                                                                                                                                |\n",
      "|[oni, make, payment, online, retailer, use, chase, quick, pay, withon, chase, website, realize, scam, website, confirmation, product, response, inquiry, regard, order, contact, chase, get, information, transaction, attempt, get, refund, retailer, bank, contact, chase, secure, message, explain, happen, ask, way, reverse, transaction, contact, give, information, recipient, thatmy, message, review, receive, response, restate, original, email, inform, transfer, complete, however, mention, website, scam, handle, inquiry, email, require, expertise, team, order, assist, well, regard, refund, request, call, consumer, online, technical, support, team, call, number, list, email, explain, situation, transfer, claim, department, direct, calland, ask, transaction, chase, information, provide, initiate, transfer, agent, try, get, end, call, quickly, possible, interrupt, close, script, ask, contact, number, atand, didnt, opportunity, get, information, right, question, askor, word, phrase, use, get, information, look, calledwhos, system, initially, direct, call, bank, use, bank, app, initiate, transaction, calledagain, navigate, menu, talk, customer, service, agent, tell, information, transaction, chase, system, use, bank, app, perform, transaction, stay, line, understand, everything, ask, well, understand, situation, end, call, call, chase, call, chase, second, time, agent, try, look, information, receive, bank, additional, information, ask, information, explain, situation, transfer, claim, department, tell, contactto, get, information, look, tell, already, contact, finally, admit, nothing, due, nature, transaction, type, transaction, secure, chase, information, recipient, email, address, input, recipient, bank, information, keep, system, phone, call, initiate, transaction, use, absolve, responsibility, regard, matter, whole, process, feel, chase, transparent, policy, regard, type, transaction, helpful, help, get, information, situation, transaction, advertise, fast, safe, easy, way, send, money, dangerous, way, business, deceive, chase, advertising, victimize, way, treat, member, customer, service, team, oni, make, make, payment, payment, online, online, retailer, retailer, use, use, chase, chase, quick, quick, pay, pay, withon, withon, chase, chase, website, website, realize, realize, scam, scam, website, website, confirmation, confirmation, product, product, response, response, inquiry, inquiry, regard, regard, order, order, contact, contact, chase, chase, get, get, information, information, transaction, transaction, attempt, attempt, get, get, refund, refund, retailer, retailer, bank, bank, contact, contact, chase, chase, via, via, secure, secure, message, message, explain, explain, happen, happen, ask, ask, way, way, reverse, reverse, transaction, transaction, contact, contact, atthat, atthat, give, give, information, information, recipient, recipient, thatmy, thatmy, message, message, review, review, receive, receive, response, response, restate, restate, original, original, email, email, inform, inform, transfer, transfer, complete, complete, however, however, mention, mention, website, website, scam, scam, handle, handle, inquiry, inquiry, email, email, require, require, expertise, expertise, another, another, team, team, order, order, assist, assist, well, well, regard, regard, refund, refund, request, request, call, call, consumer, consumer, online, online, technical, technical, support, support, team, team, call, call, number, number, list, list, email, email, explain, explain, situation, situation, transfer, transfer, claim, claim, department, department, direct, direct, calland, calland, ask, ask, transaction, transaction, chase, chase, information, information, outside, outside, provide, provide, initiate, initiate, transfer, transfer, feel, feel, like, like, agent, agent, try, try, get, get, end, end, call, call, quickly, quickly, possible, possible, interrupt, interrupt, close, close, script, script, ask, ask, contact, contact, number, number, atand, atand, didnt, didnt, opportunity, opportunity, get, get, information, information, right, right, question, question, askor, askor, word, word, phrase, phrase, use, use, get, get, information, information, look, look, calledwhos, calledwhos, automated, automated, system, system, initially, initially, direct, direct, call, call, bank, bank, use, use, bank, bank, app, app, initiate, initiate, transaction, transaction, calledagain, calledagain, navigate, navigate, menu, menu, talk, talk, customer, customer, service, service, agent, agent, tell, tell, information, information, transaction, transaction, chase, chase, system, system, use, use, bank, bank, app, app, perform, perform, transaction, transaction, stay, stay, line, line, understand, understand, everything, everything, ask, ask, well, well, understand, understand, situation, situation, end, end, call, call, call, call, chase, chase, call, call, chase, chase, second, second, time, time, agent, agent, try, try, look, look, information, information, receive, receive, bank, bank, find, find, additional, additional, information, information, ask, ask, need, need, information, information, explain, explain, situation, situation, transfer, transfer, claim, claim, department, department, tell, tell, need, need, contactto, contactto, get, get, information, information, look, look, tell, tell, already, already, contact, contact, finally, finally, admit, admit, nothing, nothing, due, due, nature, nature, transaction, transaction, type, type, transaction, transaction, secure, secure, say, say, chase, chase, information, information, recipient, recipient, email, email, address, address, input, input, recipient, recipient, bank, bank, information, information, keep, keep, system, system, phone, phone, call, call, ask, ask, initiate, initiate, transaction, transaction, use, use, absolve, absolve, responsibility, responsibility, regard, regard, matter, matter, whole, whole, process, process, feel, feel, like, like, chase, chase, transparent, transparent, policy, policy, regard, regard, type, type, transaction, transaction, helpful, helpful, help, help, get, get, information, information, situation, situation, transaction, transaction, advertise, advertise, fast, fast, safe, safe, easy, easy, way, way, send, send, money, money, seem, seem, dangerous, dangerous, way, way, business, business, feel, feel, deceive, deceive, chase, chase, advertising, advertising, victimize, victimize, way, way, treat, treat, member, member, customer, customer, service, service, team]|oni made a  payment to an online retailer using chase quick pay withon the chase website i realized that this was a scam website after no confirmation product or response to any inquiries regarding the order and contacted chase to get more information about the transaction to attempt getting a refund through the retailers bank \\n\\ni contacted chase via a secured message on  explaining what happened and asked  is there a way to reverse this transaction or do you have a contact atthat can give me more information about the recipient  thatmy message was reviewed and i received a response restating my original email and informing me that  the transfer has been completed however as you mentioned that the website is a scam while we can handle most inquiries by email some require the expertise of another team in order to assist you better in regards to the refund we request you to call our consumer online technical support team  i called the number listed in the email and explained my situation to then be transferred to the claims department i was directed to calland ask them about the transaction because chase did not have any information outside of what i provided when initiating the transfer i felt like this agent was trying to get me to end the call as quickly as possible and i had to interrupt her closing script to ask for a contact number atand didnt have an opportunity to get any information about what the right questions would be to askor what words and phrases i should use to get the information i was looking for \\n\\ni calledwhos automated system initially directed me to call my bank because i used the banks app to initiate the transaction i calledagain to navigate their menus and talk to a customer service agent they told me that all of the information about the transaction would in chase s system because i used the banks app to perform the transaction she stayed on the line with me until i understood everything that i should ask and had a better understanding of the situation i ended the call and called chase again \\n\\nwhen i called chase the second time the agent tried to look up the information about the receiving bank but could not find any additional information she then asked me why i needed this information and i explained my situation again i was once again transferred to the claims department who told me that i needed to contactto get the information i was looking for after i told her that i had already contacted them she finally admitted that there was nothing that she could do due to the nature of the transaction and that these types of transactions are not secured she said that chase had no information about the recipient other than the email address that i inputted and that the recipients banking information was not kept in the system in both phone calls they asked if i initiated that transaction and used that to absolve themselves of all responsibility in regards to this matter \\n\\nduring this whole process it felt like chase was not transparent about their policies regarding these types of transactions nor were they helpful in helping me get any information about the situation these transactions are advertised as a  fast safe and easy way to send money  but seem to be a dangerous way to do business i feel deceived by chase s advertising and further victimized by the way i was treated by the members on their customer service team|\n",
      "|[chase, credit, card, incorrectly, report, report, company, help, resolve, issue, chase, credit, credit, card, card, incorrectly, incorrectly, report, report, data, data, credit, credit, report, report, company, company, help, help, resolve, resolve, issue]                                                                                                                                                                                                                                                                                                                                                                                                                                                                                                                                                                                                                                                                                                                                                                                                                                                                                                                                                                                                                                                                                                                                                                                                                                                                                                                                                                                                                                                                                                                                                                                                                                                                                                                                                                                                                                                                                                                                                                                                                                                                                                                                                                                                                                                                                                                                                                                                                                                                                                                                                                                                                                                                                                                                                                                                                                                                                                                                                                                                                                                                                                                                                                                                                                                                                                                                                                                                                                                                                                                                                                                                                                                                                                                                                                                                                                                                                                                                                                                                                                                                                                                                                                                                                                                                                                                                                                                                                                                                                                                                                                                                                                                                                                                                                                                                                                                                                                                                                                                                                                                                                                                                                                                                                                                                                                                                                                                                                                                                                                                                                                                                                                                                                                                                                                                                                                                                                                                                                                                                                                                                                                                                                                                                                                                                                                                                                                                                                                                                                                                                                                         |i have a chase credit card which is incorrectly reporting data on my credit report the company is not helping resolve the issue                                                                                                                                                                                                                                                                                                                                                                                                                                                                                                                                                                                                                                                                                                                                                                                                                                                                                                                                                                                                                                                                                                                                                                                                                                                                                                                                                                                                                                                                                                                                                                                                                                                                                                                                                                                                                                                                                                                                                                                                                                                                                                                                                                                                                                                                                                                                                                                                                                                                                                                                                                                                                                                                                                                                                                                                                                                                                                                                                                                                                                                                                                                                                                                                                                                                                                                                                                                                                 |\n",
      "|[mishandle, account, chase, auto, mishandle, account, account, chase, chase, auto]                                                                                                                                                                                                                                                                                                                                                                                                                                                                                                                                                                                                                                                                                                                                                                                                                                                                                                                                                                                                                                                                                                                                                                                                                                                                                                                                                                                                                                                                                                                                                                                                                                                                                                                                                                                                                                                                                                                                                                                                                                                                                                                                                                                                                                                                                                                                                                                                                                                                                                                                                                                                                                                                                                                                                                                                                                                                                                                                                                                                                                                                                                                                                                                                                                                                                                                                                                                                                                                                                                                                                                                                                                                                                                                                                                                                                                                                                                                                                                                                                                                                                                                                                                                                                                                                                                                                                                                                                                                                                                                                                                                                                                                                                                                                                                                                                                                                                                                                                                                                                                                                                                                                                                                                                                                                                                                                                                                                                                                                                                                                                                                                                                                                                                                                                                                                                                                                                                                                                                                                                                                                                                                                                                                                                                                                                                                                                                                                                                                                                                                                                                                                                                                                                                                                                        |mishandling of this account by chase auto and                                                                                                                                                                                                                                                                                                                                                                                                                                                                                                                                                                                                                                                                                                                                                                                                                                                                                                                                                                                                                                                                                                                                                                                                                                                                                                                                                                                                                                                                                                                                                                                                                                                                                                                                                                                                                                                                                                                                                                                                                                                                                                                                                                                                                                                                                                                                                                                                                                                                                                                                                                                                                                                                                                                                                                                                                                                                                                                                                                                                                                                                                                                                                                                                                                                                                                                                                                                                                                                                                                   |\n",
      "|[reach, toseveral, time, attempt, fraudulent, inquiry, remove, tell, call, contact, original, creditor, place, inquiry, report, make, several, attempt, get, chase, bank, contact, bureau, remove, inquiry, authorize, able, get, right, person, take, care, issue, matter, many, attempt, make, nobody, understand, im, talkin, chase, bank, fraudulent, inquiry, remove, credit, report, take, legal, action, never, request, kind, credit, chase, bank, hold, account, iquiry, matter, resolve, reach, toseveral, toseveral, time, time, attempt, attempt, fraudulent, fraudulent, inquiry, inquiry, remove, remove, tell, tell, need, need, call, call, contact, contact, original, original, creditor, creditor, place, place, inquiry, inquiry, report, report, make, make, several, several, attempt, attempt, get, get, chase, chase, bank, bank, contact, contact, bureau, bureau, remove, remove, inquiry, inquiry, authorize, authorize, seem, seem, able, able, get, get, right, right, person, person, take, take, care, care, issue, issue, matter, matter, many, many, attempt, attempt, make, make, nobody, nobody, seem, seem, understand, understand, im, im, talkin, talkin, want, want, chase, chase, bank, bank, fraudulent, fraudulent, inquiry, inquiry, remove, remove, credit, credit, report, report, take, take, legal, legal, action, action, never, never, request, request, kind, kind, credit, credit, chase, chase, bank, bank, hold, hold, account, account, iquiry, iquiry, want, want, matter, matter, resolve]                                                                                                                                                                                                                                                                                                                                                                                                                                                                                                                                                                                                                                                                                                                                                                                                                                                                                                                                                                                                                                                                                                                                                                                                                                                                                                                                                                                                                                                                                                                                                                                                                                                                                                                                                                                                                                                                                                                                                                                                                                                                                                                                                                                                                                                                                                                                                                                                                                                                                                                                                                                                                                                                                                                                                                                                                                                                                                                                                                                                                                                                                                                                                                                                                                                                                                                                                                                                                                                                                                                                                                                                                                                                                                                                                                                                                                                                                                                                                                                                                                                                                                                                                                                                                                                                                                                                                                                                                                                                                                                                                                                                                                                                                                                                                                                                                                                                                                                                                                                                                                                                                                                                                                                                                                                                                        |i have reached out toseveral times in attempt to have this fraudulent inquiry removed i was told that i need to call and contact the original creditor that placed this inquiry on my report i have made several attempts to get chase bank to contact the bureau and remove this inquiry that was not authorized by me they seem to not be able to get me to the right person to take care of this issue no matter how many attempts i have made nobody seems to understand what im talkin about i want chase bank to have this fraudulent inquiry removed from my credit report before i take legal action i i have never requested any kind of credit with chase bank or hold any account with them i have an iquiry from  i want this matter resolved                                                                                                                                                                                                                                                                                                                                                                                                                                                                                                                                                                                                                                                                                                                                                                                                                                                                                                                                                                                                                                                                                                                                                                                                                                                                                                                                                                                                                                                                                                                                                                                                                                                                                                                                                                                                                                                                                                                                                                                                                                                                                                                                                                                                                                                                                                                                                                                                                                                                                                                                                                                                                                                                                                                                                                                       |\n",
      "|[open, account, chase, bank, onand, use, code, forbonus, call, follow, onabout, term, tell, everything, account, madedirect, deposit, bonus, pay, day, ofi, make, require, deposit, tell, account, never, coupon, code, apply, past, day, bonus, pay, open, account, account, chase, chase, bank, bank, onand, onand, use, use, code, code, forbonus, forbonus, call, call, follow, follow, onabout, onabout, term, term, tell, tell, everything, everything, account, account, madedirect, madedirect, deposit, deposit, bonus, bonus, pay, pay, day, day, ofi, ofi, make, make, require, require, deposit, deposit, tell, tell, account, account, never, never, coupon, coupon, code, code, apply, apply, past, past, day, day, bonus, bonus, pay]                                                                                                                                                                                                                                                                                                                                                                                                                                                                                                                                                                                                                                                                                                                                                                                                                                                                                                                                                                                                                                                                                                                                                                                                                                                                                                                                                                                                                                                                                                                                                                                                                                                                                                                                                                                                                                                                                                                                                                                                                                                                                                                                                                                                                                                                                                                                                                                                                                                                                                                                                                                                                                                                                                                                                                                                                                                                                                                                                                                                                                                                                                                                                                                                                                                                                                                                                                                                                                                                                                                                                                                                                                                                                                                                                                                                                                                                                                                                                                                                                                                                                                                                                                                                                                                                                                                                                                                                                                                                                                                                                                                                                                                                                                                                                                                                                                                                                                                                                                                                                                                                                                                                                                                                                                                                                                                                                                                                                                                                                                                                                                                                                                                                                                                                                                                                                                                                                                                                                                                                                                                                                      |i opened an account with chase bank onand used a code forbonus i called to follow up onabout the terms and was told everything was on the account and once i madedirect deposit the bonus would be paid out in  days as ofi had made the required deposits and was told my account never had the coupon code applied and it was past the  days to do so so no bonus would be paid                                                                                                                                                                                                                                                                                                                                                                                                                                                                                                                                                                                                                                                                                                                                                                                                                                                                                                                                                                                                                                                                                                                                                                                                                                                                                                                                                                                                                                                                                                                                                                                                                                                                                                                                                                                                                                                                                                                                                                                                                                                                                                                                                                                                                                                                                                                                                                                                                                                                                                                                                                                                                                                                                                                                                                                                                                                                                                                                                                                                                                                                                                                                                               |\n",
      "|[concern, chase, bank, charge, wrongly, overdraft, fee, alert, low, balance, unsuficent, fee, balance, always, deposit, immediatly, cover, transaction, chase, always, change, order, charge, overdraft, fee, anyway, call, guideline, dont, refund, overdrawft, doesnt, matter, bank, fault, take, money, ok, see, attach, document, chase, refund, always, find, way, take, back, refund, first, place, may, concern, concern, chase, chase, bank, bank, charge, charge, wrongly, wrongly, overdraft, overdraft, fee, fee, alert, alert, low, low, balance, balance, unsuficent, unsuficent, fee, fee, balance, balance, always, always, deposit, deposit, immediatly, immediatly, cover, cover, transaction, transaction, need, need, chase, chase, always, always, change, change, order, order, charge, charge, overdraft, overdraft, fee, fee, anyway, anyway, call, call, say, say, per, per, guideline, guideline, dont, dont, refund, refund, overdrawft, overdrawft, doesnt, doesnt, matter, matter, bank, bank, fault, fault, take, take, people, people, money, money, ok, ok, see, see, attach, attach, document, document, chase, chase, refund, refund, always, always, find, find, way, way, take, take, back, back, refund, refund, first, first, place]                                                                                                                                                                                                                                                                                                                                                                                                                                                                                                                                                                                                                                                                                                                                                                                                                                                                                                                                                                                                                                                                                                                                                                                                                                                                                                                                                                                                                                                                                                                                                                                                                                                                                                                                                                                                                                                                                                                                                                                                                                                                                                                                                                                                                                                                                                                                                                                                                                                                                                                                                                                                                                                                                                                                                                                                                                                                                                                                                                                                                                                                                                                                                                                                                                                                                                                                                                                                                                                                                                                                                                                                                                                                                                                                                                                                                                                                                                                                                                                                                                                                                                                                                                                                                                                                                                                                                                                                                                                                                                                                                                                                                                                                                                                                                                                                                                                                                                                                                                                                                                                                                                                                                                                                                                                                                                                                                                                                                                                                                                                                                                 |to whom it may concern chase bank charged wrongly overdraft fees i have alert of low balance or unsuficent fee balance and always deposit immediatly to cover transactions if needed but chase always changed the order and charged me overdraft fee anyway when you call they said their per their guidelines they dont refund more then  overdrawft doesnt matter bank fault or not\\n\\ntaken  from people is money just because you can is not ok\\n\\nsee attached documents when chase refund they always find the way to take back what they refunded in first place                                                                                                                                                                                                                                                                                                                                                                                                                                                                                                                                                                                                                                                                                                                                                                                                                                                                                                                                                                                                                                                                                                                                                                                                                                                                                                                                                                                                                                                                                                                                                                                                                                                                                                                                                                                                                                                                                                                                                                                                                                                                                                                                                                                                                                                                                                                                                                                                                                                                                                                                                                                                                                                                                                                                                                                                                                                                                                                                                                         |\n",
      "|[chase, amazon, card, decline, cater, order, place, brother, funeral, amount, contact, chase, noon, today, ask, last, number, chase, user, account, respond, authorize, user, customer, rep, tell, call, back, minute, keep, line, open, didnt, receive, call, back, hour, contact, chase, first, call, someone, use, card, fraudulently, speak, rep, transfer, supervisorwho, card, activate, transaction, process, call, cater, company, card, decline, use, mycard, pay, ask, authorize, purchase, respond, contact, caterer, andwas, decline, contact, chase, speak, rep, tell, initial, question, use, trick, answer, tell, cvv, code, incorrectly, input, caterer, respond, go, number, cvv, use, correct, tell, card, clear, purchase, monitor, hour, call, caterer, card, decline, use, mastercard, process, go, use, chase, amazon, restaurant, atpm, tonight, amount, decline, tell, chase, limit, still, frustrate, figure, multiple, decline, several, conversation, chase, state, card, ok, use, caterer, keep, suggest, limit, pay, card, full, month, chase, confirm, limit, transaction, never, decline, chase, orbefore, today, multiple, assurance, card, monitor, make, sure, transaction, clear, never, chase, amazon, amazon, card, card, decline, decline, cater, cater, order, order, place, place, brother, brother, funeral, funeral, amount, amount, contact, contact, chase, chase, around, around, noon, noon, today, today, ask, ask, last, last, number, number, chase, chase, savings, savings, account, account, user, user, account, account, respond, respond, savings, savings, authorize, authorize, user, user, customer, customer, rep, rep, tell, tell, call, call, back, back, minute, minute, keep, keep, line, line, open, open, didnt, didnt, receive, receive, call, call, back, back, hour, hour, contact, contact, chase, chase, first, first, call, call, think, think, someone, someone, use, use, card, card, fraudulently, fraudulently, speak, speak, rep, rep, transfer, transfer, supervisorwho, supervisorwho, say, say, card, card, activate, activate, transaction, transaction, process, process, call, call, cater, cater, company, company, card, card, decline, decline, use, use, mycard, mycard, pay, pay, ordertexted, ordertexted, ask, ask, authorize, authorize, purchase, purchase, respond, respond, yes, yes, contact, contact, caterer, caterer, andwas, andwas, decline, decline, contact, contact, chase, chase, speak, speak, rep, rep, tell, tell, initial, initial, question, question, use, use, trick, trick, people, people, see, see, answer, answer, tell, tell, cvv, cvv, code, code, incorrectly, incorrectly, input, input, caterer, caterer, respond, respond, go, go, number, number, cvv, cvv, use, use, correct, correct, tell, tell, card, card, clear, clear, purchase, purchase, monitor, monitor, hour, hour, call, call, caterer, caterer, card, card, decline, decline, use, use, mastercard, mastercard, process, process, go, go, use, use, chase, chase, amazon, amazon, restaurant, restaurant, atpm, atpm, tonight, tonight, amount, amount, decline, decline, tell, tell, chase, chase, limit, limit, still, still, frustrate, frustrate, figure, figure, multiple, multiple, decline, decline, several, several, conversation, conversation, chase, chase, state, state, card, card, ok, ok, use, use, embarrassed, embarrassed, caterer, caterer, keep, keep, suggest, suggest, limit, limit, pay, pay, card, card, full, full, every, every, month, month, chase, chase, confirm, confirm, limit, limit, transaction, transaction, never, never, decline, decline, either, either, chase, chase, orbefore, orbefore, today, today, multiple, multiple, assurance, assurance, set, set, card, card, monitor, monitor, make, make, sure, sure, transaction, transaction, clear, clear, never]                                                                                                                                                                                                                                                                                                                                                                                                                                                                                                                                                                                                                                                                                                                                                                                                                                                                                                                                                                                                                                                                                                                                                                                                                                                                                                                                                                                                                                                                                                                                                                                                                                                                                                                                                                                                                                                                                                                                                                                                                                                                                                                                                                                                                                                                                                                                                                                                                                                                                                                                                                                                                                                                                                                                                                                                                                                                                                                                         |my chase amazon card was declined for a catering order i had placed for my brothers funeral in the amount of  i contacted chase around noon today  and was asked the last  numbers of my chase savings account and the other user on my account i responded that i did not have a savings and i am only authorized user customer rep told me they would call me back in  minutes to keep the line open i didnt receive a call back after an hour so i contacted chase from the first call i thought someone was using my card fraudulently i spoke to the rep who transferred me to a supervisorwho said the card was activated and the transaction would process called the catering company and card was declined i then used mycard to pay for the ordertexted me asking if i was authorizing purchase and i responded yes contacted caterer andwas declined i contacted chase again spoke to rep was told the initial questions are used to trick people to see what there answer would be she told me the cvv code was incorrectly being input by the caterer and i responded that i had gone over the numbers and cvv used was correct she told me the card was cleared for the purchase and she would monitor it for  hours called caterer  card declined use a mastercard  which processed went to use chase amazon at restaurant atpm tonight in the amount of   it was declined i was told by chase i was not over limit still frustrated figuring out multiple declines after several conversations with chase stating the card would be ok to use embarrassed as the caterer kept suggesting i was over my limit which i pay my card in full every month and chase confirmed that i was under my limit with the  transaction never been declined by either chase orbefore  today after multiple assurances that i was all set and card would be monitored to make sure transaction would clear  it never did                                                                                                                                                                                                                                                                                                                                                                                                                                                                                                                                                                                                                                                                                                                                                                                                                                                                                                                                                                                                                                                                                                                                                                                                                                                                                                                                                                                                                                                                                                                                                                                                                        |\n",
      "|[open, save, account, bonus, suppose, receive, bonus, consecutive, auto, transfer, check, automatic, transfer, cancel, enough, fund, check, account, therefore, put, enough, fund, account, request, executive, team, reactivate, automatic, transfer, month, ofalthough, executive, office, fail, try, resolve, concern, case, open, save, save, account, account, bonus, bonus, suppose, suppose, receive, receive, bonus, bonus, consecutive, consecutive, auto, auto, transfer, transfer, check, check, savings, savings, notice, notice, automatic, automatic, transfer, transfer, cancel, cancel, enough, enough, fund, fund, check, check, account, account, therefore, therefore, put, put, enough, enough, fund, fund, account, account, request, request, executive, executive, team, team, reactivate, reactivate, automatic, automatic, transfer, transfer, month, month, ofalthough, ofalthough, msreached, msreached, executive, executive, office, office, fail, fail, try, try, resolve, resolve, concern, concern, case]                                                                                                                                                                                                                                                                                                                                                                                                                                                                                                                                                                                                                                                                                                                                                                                                                                                                                                                                                                                                                                                                                                                                                                                                                                                                                                                                                                                                                                                                                                                                                                                                                                                                                                                                                                                                                                                                                                                                                                                                                                                                                                                                                                                                                                                                                                                                                                                                                                                                                                                                                                                                                                                                                                                                                                                                                                                                                                                                                                                                                                                                                                                                                                                                                                                                                                                                                                                                                                                                                                                                                                                                                                                                                                                                                                                                                                                                                                                                                                                                                                                                                                                                                                                                                                                                                                                                                                                                                                                                                                                                                                                                                                                                                                                                                                                                                                                                                                                                                                                                                                                                                                                                                                                                                                                                                                                                                                                                                                                                                                                                                                                                                                                                                                                                                                                                 |i opened the saving account for the  bonus i was supposed to received the  bonus after  consecutive auto transfers from checking to savings i notice on  that automatic transfer was cancelled for not enough funds into my checking s account therefore i put enough funds in my account on  requested that the executive team reactivate my automatic transfer for the month ofalthough msreached out to me from the executive office she failed to try to resolve my concerns  case                                                                                                                                                                                                                                                                                                                                                                                                                                                                                                                                                                                                                                                                                                                                                                                                                                                                                                                                                                                                                                                                                                                                                                                                                                                                                                                                                                                                                                                                                                                                                                                                                                                                                                                                                                                                                                                                                                                                                                                                                                                                                                                                                                                                                                                                                                                                                                                                                                                                                                                                                                                                                                                                                                                                                                                                                                                                                                                                                                                                                                                          |\n",
      "|[sofa, love, seat, table, chair, never, deliver, debit, card, charge, bank, visa, deny, claim, furniture, money, sofa, love, love, seat, seat, table, table, chair, chair, never, never, deliver, deliver, debit, debit, card, card, charge, charge, bank, bank, say, say, visa, visa, deny, deny, claim, claim, furniture, furniture, money]                                                                                                                                                                                                                                                                                                                                                                                                                                                                                                                                                                                                                                                                                                                                                                                                                                                                                                                                                                                                                                                                                                                                                                                                                                                                                                                                                                                                                                                                                                                                                                                                                                                                                                                                                                                                                                                                                                                                                                                                                                                                                                                                                                                                                                                                                                                                                                                                                                                                                                                                                                                                                                                                                                                                                                                                                                                                                                                                                                                                                                                                                                                                                                                                                                                                                                                                                                                                                                                                                                                                                                                                                                                                                                                                                                                                                                                                                                                                                                                                                                                                                                                                                                                                                                                                                                                                                                                                                                                                                                                                                                                                                                                                                                                                                                                                                                                                                                                                                                                                                                                                                                                                                                                                                                                                                                                                                                                                                                                                                                                                                                                                                                                                                                                                                                                                                                                                                                                                                                                                                                                                                                                                                                                                                                                                                                                                                                                                                                                                                             |a sofa love seat table and chairs and was never delivered debit card charged  bank says visa denied claim we have no furniture and no money                                                                                                                                                                                                                                                                                                                                                                                                                                                                                                                                                                                                                                                                                                                                                                                                                                                                                                                                                                                                                                                                                                                                                                                                                                                                                                                                                                                                                                                                                                                                                                                                                                                                                                                                                                                                                                                                                                                                                                                                                                                                                                                                                                                                                                                                                                                                                                                                                                                                                                                                                                                                                                                                                                                                                                                                                                                                                                                                                                                                                                                                                                                                                                                                                                                                                                                                                                                                     |\n",
      "|[card, go, miss, didnt, realize, today, check, email, deposit, money, take, bank, account, go, card, go, go, miss, miss, didnt, didnt, realize, realize, today, today, check, check, email, email, say, say, deposit, deposit, money, money, take, take, bank, bank, account, account, go]                                                                                                                                                                                                                                                                                                                                                                                                                                                                                                                                                                                                                                                                                                                                                                                                                                                                                                                                                                                                                                                                                                                                                                                                                                                                                                                                                                                                                                                                                                                                                                                                                                                                                                                                                                                                                                                                                                                                                                                                                                                                                                                                                                                                                                                                                                                                                                                                                                                                                                                                                                                                                                                                                                                                                                                                                                                                                                                                                                                                                                                                                                                                                                                                                                                                                                                                                                                                                                                                                                                                                                                                                                                                                                                                                                                                                                                                                                                                                                                                                                                                                                                                                                                                                                                                                                                                                                                                                                                                                                                                                                                                                                                                                                                                                                                                                                                                                                                                                                                                                                                                                                                                                                                                                                                                                                                                                                                                                                                                                                                                                                                                                                                                                                                                                                                                                                                                                                                                                                                                                                                                                                                                                                                                                                                                                                                                                                                                                                                                                                                                                |my card went missing and i didnt realize it until today i checked my email and they said there has been deposits and money taken out again i had  in my bank account and its gone                                                                                                                                                                                                                                                                                                                                                                                                                                                                                                                                                                                                                                                                                                                                                                                                                                                                                                                                                                                                                                                                                                                                                                                                                                                                                                                                                                                                                                                                                                                                                                                                                                                                                                                                                                                                                                                                                                                                                                                                                                                                                                                                                                                                                                                                                                                                                                                                                                                                                                                                                                                                                                                                                                                                                                                                                                                                                                                                                                                                                                                                                                                                                                                                                                                                                                                                                               |\n",
      "|[chase, send, email, today, innocuous, title, important, information, regard, change, chase, account, often, use, similar, title, ad, communication, force, bind, arbitration, never, something, never, part, contract, method, opt, additional, information, consequence, many, see, similar, problem, afraid, chase, close, account, opt, even, egregiously, chase, simply, send, email, require, mail, letter, personal, information, enclose, order, opt, clearly, secure, massive, loss, time, money, clearly, use, solely, dissuade, opt, blatant, malpractice, chase, chase, send, send, email, email, today, today, innocuous, innocuous, title, title, important, important, information, information, regard, regard, change, change, chase, chase, account, account, often, often, use, use, similar, similar, title, title, ad, ad, communication, communication, force, force, bind, bind, arbitration, arbitration, despite, despite, never, never, something, something, agree, agree, never, never, part, part, contract, contract, include, include, method, method, opt, opt, additional, additional, information, information, consequence, consequence, many, many, people, people, ive, ive, see, see, similar, similar, problem, problem, afraid, afraid, chase, chase, close, close, account, account, opt, opt, even, even, egregiously, egregiously, despite, despite, chase, chase, simply, simply, send, send, email, email, require, require, mail, mail, letter, letter, personal, personal, information, information, enclose, enclose, order, order, opt, opt, clearly, clearly, less, less, secure, secure, massive, massive, loss, loss, time, time, money, money, clearly, clearly, use, use, solely, solely, dissuade, dissuade, people, people, opt, opt, blatant, blatant, malpractice, malpractice, chase]                                                                                                                                                                                                                                                                                                                                                                                                                                                                                                                                                                                                                                                                                                                                                                                                                                                                                                                                                                                                                                                                                                                                                                                                                                                                                                                                                                                                                                                                                                                                                                                                                                                                                                                                                                                                                                                                                                                                                                                                                                                                                                                                                                                                                                                                                                                                                                                                                                                                                                                                                                                                                                                                                                                                                                                                                                                                                                                                                                                                                                                                                                                                                                                                                                                                                                                                                                                                                                                                                                                                                                                                                                                                                                                                                                                                                                                                                                                                                                                                                                                                                                                                                                                                                                                                                                                                                                                                                                                                                                                                                                                                                                                                                                                                                                                                                                                                                                                                                                                          |chase sent me an email today with the innocuous title  important information regarding changes to your chase account   they often use similar titles for ads and other communications  \\n\\nin it they force me into binding arbitration  despite that never being something i had agreed to and never being a part of any contract between me and them  \\n\\nthey do include a method to opt out but have no additional information about the consequences  many other people ive seen who have had a similar problem are afraid that chase will close their account if they opt out  and even more egregiously despite chase simply sending an email doing this they require me to mail them a letter with my personal information enclosed in order to opt out \\n\\nthis is clearly less secure and a massive loss of both my time and money that is clearly being used solely to dissuade people from opting out \\n\\nthis is blatant malpractice by chase                                                                                                                                                                                                                                                                                                                                                                                                                                                                                                                                                                                                                                                                                                                                                                                                                                                                                                                                                                                                                                                                                                                                                                                                                                                                                                                                                                                                                                                                                                                                                                                                                                                                                                                                                                                                                                                                                                                                                                                                                                                                                                                                                                                                                                                                                                                                                                                                                                                                                                                                                                                      |\n",
      "|[make, purchase, withon, amount, charge, twice, transaction, place, dispute, case, chase, bank, notice, charge, account, call, back, provisional, credit, charge, tell, charge, post, provisional, credit, provide, use, debt, card, try, use, work, go, chase, bank, oninnevada, tell, account, close, due, fraudulent, activity, shock, report, fraud, account, late, accuse, dispute, department, place, fraudulent, dispute, case, duplicate, charge, fromi, late, contactedagain, tell, see, duplicate, charge, credit, account, day, contact, chase, dispute, department, mondayand, explain, thawould, credit, account, accuse, make, fraudulent, dispute, claim, escalation, manager, care, tell, chase, decision, close, account, final, customer, chase, character, challenge, dispute, agent, consider, detrimental, character, slander, seek, keep, account, open, chase, also, chase, report, close, check, account, involuntarily, want, chase, check, account, reflect, public, record, close, involuntary, closure, chase, nothing, wrong, file, dispute, claim, duplicate, charge, dispute, case, file, past, make, purchase, purchase, withon, withon, amount, amount, charge, charge, twice, twice, transaction, transaction, place, place, dispute, dispute, case, case, chase, chase, bank, bank, notice, notice, charge, charge, account, account, call, call, back, back, sunday, sunday, provisional, provisional, credit, credit, charge, charge, monday, monday, tell, tell, charge, charge, post, post, provisional, provisional, credit, credit, provide, provide, use, use, debt, debt, card, card, monday, monday, try, try, use, use, work, work, go, go, chase, chase, bank, bank, oninnevada, oninnevada, tell, tell, account, account, close, close, due, due, fraudulent, fraudulent, activity, activity, shock, shock, report, report, fraud, fraud, account, account, late, late, find, find, accuse, accuse, dispute, dispute, department, department, place, place, fraudulent, fraudulent, dispute, dispute, case, case, duplicate, duplicate, charge, charge, fromi, fromi, late, late, contactedagain, contactedagain, tell, tell, see, see, duplicate, duplicate, charge, charge, credit, credit, account, account, within, within, day, day, contact, contact, chase, chase, dispute, dispute, department, department, mondayand, mondayand, explain, explain, thawould, thawould, credit, credit, account, account, like, like, accuse, accuse, make, make, fraudulent, fraudulent, dispute, dispute, claim, claim, escalation, escalation, manager, manager, care, care, tell, tell, chase, chase, decision, decision, close, close, account, account, final, final, customer, customer, chase, chase, foryears, foryears, character, character, challenge, challenge, dispute, dispute, agent, agent, consider, consider, detrimental, detrimental, character, character, slander, slander, seek, seek, keep, keep, account, account, open, open, chase, chase, also, also, want, want, chase, chase, report, report, close, close, check, check, account, account, involuntarily, involuntarily, want, want, chase, chase, check, check, account, account, reflect, reflect, public, public, record, record, close, close, involuntary, involuntary, closure, closure, chase, chase, nothing, nothing, wrong, wrong, file, file, dispute, dispute, claim, claim, duplicate, duplicate, charge, charge, dispute, dispute, case, case, file, file, past]                                                                                                                                                                                                                                                                                                                                                                                                                                                                                                                                                                                                                                                                                                                                                                                                                                                                                                                                                                                                                                                                                                                                                                                                                                                                                                                                                                                                                                                                                                                                                                                                                                                                                                                                                                                                                                                                                                                                                                                                                                                                                                                                                                                                                                                                                                                                                                                                                                                                                                                                                                                                                                                                                                                                                                                                                                                                                                                                                                                                                                                                                                                                                                                                                                                                                                                                    |i made a purchase withon  in the amount of  i was charged twice for this transaction i placed a disputes case with chase bank on  when i noticed the charge on my account i called back on sunday  about the provisional credit for the charge and again on monday  i was told the charge had to post before a provisional credit could be provided i used my debt card on monday  then tried to use it again but it would not work i went to chase bank oninnevada and was told that my account was closed due to fraudulent activity i was shocked because i had not reported fraud on my account i later found out that i was being accused by the disputes department of placing a fraudulent disputes case for the duplicate charge fromi later contactedagain and was told that they did see a duplicate charge and would credit my account within     days i contacted the chase disputes department again on mondayand explained thawould credit my account and that i did not like being accused of making a fraudulent disputes claim the escalation manager did not care and told me that chase decision on closing my account was final i had been a customer of chase foryears my character has been challenged by the disputes agents and i consider this to be detrimental to my character and slander \\n\\ni am not seeking to keep my account open with chase but i also do not want chase reporting that they closed my checking account involuntarily \\n\\nonce again i do not want chase to have the checking account that i had with them being reflecting on any public records as being closed as involuntary closure by chase \\n\\ni did nothing wrong by filing a disputes claim for the duplicate charge or any other disputes cases that were filed in the past                                                                                                                                                                                                                                                                                                                                                                                                                                                                                                                                                                                                                                                                                                                                                                                                                                                                                                                                                                                                                                                                                                                                                                                                                                                                                                                                                                                                                                                                                                                                                                                                                                                                                                                                                         |\n",
      "+------------------------------------------------------------------------------------------------------------------------------------------------------------------------------------------------------------------------------------------------------------------------------------------------------------------------------------------------------------------------------------------------------------------------------------------------------------------------------------------------------------------------------------------------------------------------------------------------------------------------------------------------------------------------------------------------------------------------------------------------------------------------------------------------------------------------------------------------------------------------------------------------------------------------------------------------------------------------------------------------------------------------------------------------------------------------------------------------------------------------------------------------------------------------------------------------------------------------------------------------------------------------------------------------------------------------------------------------------------------------------------------------------------------------------------------------------------------------------------------------------------------------------------------------------------------------------------------------------------------------------------------------------------------------------------------------------------------------------------------------------------------------------------------------------------------------------------------------------------------------------------------------------------------------------------------------------------------------------------------------------------------------------------------------------------------------------------------------------------------------------------------------------------------------------------------------------------------------------------------------------------------------------------------------------------------------------------------------------------------------------------------------------------------------------------------------------------------------------------------------------------------------------------------------------------------------------------------------------------------------------------------------------------------------------------------------------------------------------------------------------------------------------------------------------------------------------------------------------------------------------------------------------------------------------------------------------------------------------------------------------------------------------------------------------------------------------------------------------------------------------------------------------------------------------------------------------------------------------------------------------------------------------------------------------------------------------------------------------------------------------------------------------------------------------------------------------------------------------------------------------------------------------------------------------------------------------------------------------------------------------------------------------------------------------------------------------------------------------------------------------------------------------------------------------------------------------------------------------------------------------------------------------------------------------------------------------------------------------------------------------------------------------------------------------------------------------------------------------------------------------------------------------------------------------------------------------------------------------------------------------------------------------------------------------------------------------------------------------------------------------------------------------------------------------------------------------------------------------------------------------------------------------------------------------------------------------------------------------------------------------------------------------------------------------------------------------------------------------------------------------------------------------------------------------------------------------------------------------------------------------------------------------------------------------------------------------------------------------------------------------------------------------------------------------------------------------------------------------------------------------------------------------------------------------------------------------------------------------------------------------------------------------------------------------------------------------------------------------------------------------------------------------------------------------------------------------------------------------------------------------------------------------------------------------------------------------------------------------------------------------------------------------------------------------------------------------------------------------------------------------------------------------------------------------------------------------------------------------------------------------------------------------------------------------------------------------------------------------------------------------------------------------------------------------------------------------------------------------------------------------------------------------------------------------------------------------------------------------------------------------------------------------------------------------------------------------------------------------------------------------------------------------------------------------------------------------------------------------------------------------------------------------------------------------------------------------------------------------------------------------------------------------------------------------------------------------------------------------------------------------------------------------------------------------------------------------------------+------------------------------------------------------------------------------------------------------------------------------------------------------------------------------------------------------------------------------------------------------------------------------------------------------------------------------------------------------------------------------------------------------------------------------------------------------------------------------------------------------------------------------------------------------------------------------------------------------------------------------------------------------------------------------------------------------------------------------------------------------------------------------------------------------------------------------------------------------------------------------------------------------------------------------------------------------------------------------------------------------------------------------------------------------------------------------------------------------------------------------------------------------------------------------------------------------------------------------------------------------------------------------------------------------------------------------------------------------------------------------------------------------------------------------------------------------------------------------------------------------------------------------------------------------------------------------------------------------------------------------------------------------------------------------------------------------------------------------------------------------------------------------------------------------------------------------------------------------------------------------------------------------------------------------------------------------------------------------------------------------------------------------------------------------------------------------------------------------------------------------------------------------------------------------------------------------------------------------------------------------------------------------------------------------------------------------------------------------------------------------------------------------------------------------------------------------------------------------------------------------------------------------------------------------------------------------------------------------------------------------------------------------------------------------------------------------------------------------------------------------------------------------------------------------------------------------------------------------------------------------------------------------------------------------------------------------------------------------------------------------------------------------------------------------------------------------------------------------------------------------------------------------------------------------------------------------------------------------------------------------------------------------------------------------------------------------------------------------------------------------------------------------------------------------------------------------------------------------------------------------------------------------------------------+\n",
      "only showing top 20 rows\n",
      "\n"
     ]
    }
   ],
   "source": [
    "df_final.select(\"all_tokens\", \"complaint_what_happened\").show(truncate=False)"
   ]
  },
  {
   "cell_type": "markdown",
   "id": "6b3bf791-573c-4f2e-a095-8b37651c596d",
   "metadata": {},
   "source": [
    "## COUNTVECTORIZER-IDF\n",
    "---"
   ]
  },
  {
   "cell_type": "code",
   "execution_count": 18,
   "id": "d9579e2b",
   "metadata": {
    "execution": {
     "iopub.execute_input": "2024-11-07T22:33:06.409950Z",
     "iopub.status.busy": "2024-11-07T22:33:06.409760Z",
     "iopub.status.idle": "2024-11-07T22:37:20.413205Z",
     "shell.execute_reply": "2024-11-07T22:37:20.412560Z",
     "shell.execute_reply.started": "2024-11-07T22:33:06.409928Z"
    },
    "tags": []
   },
   "outputs": [
    {
     "name": "stderr",
     "output_type": "stream",
     "text": [
      "24/11/09 22:07:56 ERROR Instrumentation: org.apache.hadoop.fs.UnsupportedFileSystemException: No FileSystem for scheme \"mlflow-artifacts\"\n",
      "\tat org.apache.hadoop.fs.FileSystem.getFileSystemClass(FileSystem.java:3443)\n",
      "\tat org.apache.hadoop.fs.FileSystem.createFileSystem(FileSystem.java:3466)\n",
      "\tat org.apache.hadoop.fs.FileSystem.access$300(FileSystem.java:174)\n",
      "\tat org.apache.hadoop.fs.FileSystem$Cache.getInternal(FileSystem.java:3574)\n",
      "\tat org.apache.hadoop.fs.FileSystem$Cache.get(FileSystem.java:3521)\n",
      "\tat org.apache.hadoop.fs.FileSystem.get(FileSystem.java:540)\n",
      "\tat org.apache.hadoop.fs.Path.getFileSystem(Path.java:365)\n",
      "\tat org.apache.spark.ml.util.FileSystemOverwrite.handleOverwrite(ReadWrite.scala:673)\n",
      "\tat org.apache.spark.ml.util.MLWriter.save(ReadWrite.scala:167)\n",
      "\tat org.apache.spark.ml.PipelineModel$PipelineModelWriter.super$save(Pipeline.scala:344)\n",
      "\tat org.apache.spark.ml.PipelineModel$PipelineModelWriter.$anonfun$save$4(Pipeline.scala:344)\n",
      "\tat org.apache.spark.ml.MLEvents.withSaveInstanceEvent(events.scala:174)\n",
      "\tat org.apache.spark.ml.MLEvents.withSaveInstanceEvent$(events.scala:169)\n",
      "\tat org.apache.spark.ml.util.Instrumentation.withSaveInstanceEvent(Instrumentation.scala:42)\n",
      "\tat org.apache.spark.ml.PipelineModel$PipelineModelWriter.$anonfun$save$3(Pipeline.scala:344)\n",
      "\tat org.apache.spark.ml.PipelineModel$PipelineModelWriter.$anonfun$save$3$adapted(Pipeline.scala:344)\n",
      "\tat org.apache.spark.ml.util.Instrumentation$.$anonfun$instrumented$1(Instrumentation.scala:191)\n",
      "\tat scala.util.Try$.apply(Try.scala:213)\n",
      "\tat org.apache.spark.ml.util.Instrumentation$.instrumented(Instrumentation.scala:191)\n",
      "\tat org.apache.spark.ml.PipelineModel$PipelineModelWriter.save(Pipeline.scala:344)\n",
      "\tat java.base/jdk.internal.reflect.NativeMethodAccessorImpl.invoke0(Native Method)\n",
      "\tat java.base/jdk.internal.reflect.NativeMethodAccessorImpl.invoke(NativeMethodAccessorImpl.java:62)\n",
      "\tat java.base/jdk.internal.reflect.DelegatingMethodAccessorImpl.invoke(DelegatingMethodAccessorImpl.java:43)\n",
      "\tat java.base/java.lang.reflect.Method.invoke(Method.java:566)\n",
      "\tat py4j.reflection.MethodInvoker.invoke(MethodInvoker.java:244)\n",
      "\tat py4j.reflection.ReflectionEngine.invoke(ReflectionEngine.java:374)\n",
      "\tat py4j.Gateway.invoke(Gateway.java:282)\n",
      "\tat py4j.commands.AbstractCommand.invokeMethod(AbstractCommand.java:132)\n",
      "\tat py4j.commands.CallCommand.execute(CallCommand.java:79)\n",
      "\tat py4j.ClientServerConnection.waitForCommands(ClientServerConnection.java:182)\n",
      "\tat py4j.ClientServerConnection.run(ClientServerConnection.java:106)\n",
      "\tat java.base/java.lang.Thread.run(Thread.java:829)\n",
      "\n",
      "Successfully registered model 'count_vectorizer_model'.\n",
      "2024/11/09 22:08:05 INFO mlflow.store.model_registry.abstract_store: Waiting up to 300 seconds for model version to finish creation. Model name: count_vectorizer_model, version 1\n",
      "Created version '1' of model 'count_vectorizer_model'.\n",
      "24/11/09 22:08:05 ERROR Instrumentation: org.apache.hadoop.fs.UnsupportedFileSystemException: No FileSystem for scheme \"mlflow-artifacts\"\n",
      "\tat org.apache.hadoop.fs.FileSystem.getFileSystemClass(FileSystem.java:3443)\n",
      "\tat org.apache.hadoop.fs.FileSystem.createFileSystem(FileSystem.java:3466)\n",
      "\tat org.apache.hadoop.fs.FileSystem.access$300(FileSystem.java:174)\n",
      "\tat org.apache.hadoop.fs.FileSystem$Cache.getInternal(FileSystem.java:3574)\n",
      "\tat org.apache.hadoop.fs.FileSystem$Cache.get(FileSystem.java:3521)\n",
      "\tat org.apache.hadoop.fs.FileSystem.get(FileSystem.java:540)\n",
      "\tat org.apache.hadoop.fs.Path.getFileSystem(Path.java:365)\n",
      "\tat org.apache.spark.ml.util.FileSystemOverwrite.handleOverwrite(ReadWrite.scala:673)\n",
      "\tat org.apache.spark.ml.util.MLWriter.save(ReadWrite.scala:167)\n",
      "\tat org.apache.spark.ml.PipelineModel$PipelineModelWriter.super$save(Pipeline.scala:344)\n",
      "\tat org.apache.spark.ml.PipelineModel$PipelineModelWriter.$anonfun$save$4(Pipeline.scala:344)\n",
      "\tat org.apache.spark.ml.MLEvents.withSaveInstanceEvent(events.scala:174)\n",
      "\tat org.apache.spark.ml.MLEvents.withSaveInstanceEvent$(events.scala:169)\n",
      "\tat org.apache.spark.ml.util.Instrumentation.withSaveInstanceEvent(Instrumentation.scala:42)\n",
      "\tat org.apache.spark.ml.PipelineModel$PipelineModelWriter.$anonfun$save$3(Pipeline.scala:344)\n",
      "\tat org.apache.spark.ml.PipelineModel$PipelineModelWriter.$anonfun$save$3$adapted(Pipeline.scala:344)\n",
      "\tat org.apache.spark.ml.util.Instrumentation$.$anonfun$instrumented$1(Instrumentation.scala:191)\n",
      "\tat scala.util.Try$.apply(Try.scala:213)\n",
      "\tat org.apache.spark.ml.util.Instrumentation$.instrumented(Instrumentation.scala:191)\n",
      "\tat org.apache.spark.ml.PipelineModel$PipelineModelWriter.save(Pipeline.scala:344)\n",
      "\tat java.base/jdk.internal.reflect.NativeMethodAccessorImpl.invoke0(Native Method)\n",
      "\tat java.base/jdk.internal.reflect.NativeMethodAccessorImpl.invoke(NativeMethodAccessorImpl.java:62)\n",
      "\tat java.base/jdk.internal.reflect.DelegatingMethodAccessorImpl.invoke(DelegatingMethodAccessorImpl.java:43)\n",
      "\tat java.base/java.lang.reflect.Method.invoke(Method.java:566)\n",
      "\tat py4j.reflection.MethodInvoker.invoke(MethodInvoker.java:244)\n",
      "\tat py4j.reflection.ReflectionEngine.invoke(ReflectionEngine.java:374)\n",
      "\tat py4j.Gateway.invoke(Gateway.java:282)\n",
      "\tat py4j.commands.AbstractCommand.invokeMethod(AbstractCommand.java:132)\n",
      "\tat py4j.commands.CallCommand.execute(CallCommand.java:79)\n",
      "\tat py4j.ClientServerConnection.waitForCommands(ClientServerConnection.java:182)\n",
      "\tat py4j.ClientServerConnection.run(ClientServerConnection.java:106)\n",
      "\tat java.base/java.lang.Thread.run(Thread.java:829)\n",
      "\n",
      "Successfully registered model 'idf_model'.\n",
      "2024/11/09 22:08:14 INFO mlflow.store.model_registry.abstract_store: Waiting up to 300 seconds for model version to finish creation. Model name: idf_model, version 1\n",
      "Created version '1' of model 'idf_model'.\n",
      "2024/11/09 22:08:14 INFO mlflow.tracking._tracking_service.client: 🏃 View run enchanting-doe-867 at: http://127.0.0.1:5000/#/experiments/774078483229346868/runs/f1a5e652bd514737a1236c46f6dfd7af.\n",
      "2024/11/09 22:08:14 INFO mlflow.tracking._tracking_service.client: 🧪 View experiment at: http://127.0.0.1:5000/#/experiments/774078483229346868.\n"
     ]
    },
    {
     "name": "stdout",
     "output_type": "stream",
     "text": [
      "CountVectorizer and IDF models logged to MLflow successfully.\n"
     ]
    }
   ],
   "source": [
    "import mlflow\n",
    "import mlflow.spark\n",
    "from pyspark.ml.feature import CountVectorizer, IDF\n",
    "from mlflow.models import infer_signature\n",
    "\n",
    "remote_server_uri = \"http://127.0.0.1:5000\"  # set to your server URI\n",
    "mlflow.set_tracking_uri(remote_server_uri)\n",
    "mlflow.set_experiment(\"/NLP_SPARK_COMPLAINTS\")\n",
    "\n",
    "# Start an MLflow run\n",
    "with mlflow.start_run() as run:\n",
    "    # Apply CountVectorizer for term frequency (TF)\n",
    "    # Log the parameters\n",
    "    minDF = 3\n",
    "    maxDF = 0.95\n",
    "    mlflow.log_param(\"minDF\", minDF)\n",
    "    mlflow.log_param(\"maxDF\", maxDF)\n",
    "\n",
    "    # Instantiate CountVectorizer and fit the data\n",
    "    count_vectorizer = CountVectorizer(inputCol=\"all_tokens\", outputCol=\"tf_features\", minDF=minDF, maxDF=maxDF)\n",
    "    cv_model = count_vectorizer.fit(df_final)\n",
    "    df_tf = cv_model.transform(df_final)\n",
    "\n",
    "    # Apply IDF for TF-IDF\n",
    "    idf = IDF(inputCol=\"tf_features\", outputCol=\"tfidf_features\")\n",
    "    idf_model = idf.fit(df_tf)\n",
    "    df_tfidf = idf_model.transform(df_tf)\n",
    "\n",
    "    #Signatures\n",
    "    outputtidf = df_tfidf.select(\"tfidf_features\")\n",
    "    inputtidf = df_tf.select(\"tf_features\")\n",
    "\n",
    "    outputcv = df_tf.select(\"tf_features\")\n",
    "    inputcv = df_final.select(\"all_tokens\")\n",
    "\n",
    "    signaturecv = infer_signature(inputcv, outputcv)\n",
    "    signatureidf = infer_signature(inputtidf, outputtidf)\n",
    "\n",
    "    # Log the CountVectorizer and IDF models to MLflow\n",
    "    mlflow.spark.log_model(cv_model, \"count_vectorizer_model\", registered_model_name=\"count_vectorizer_model\", signature=signaturecv)\n",
    "    mlflow.spark.log_model(idf_model, \"idf_model\", registered_model_name=\"idf_model\", signature=signatureidf)\n",
    "\n",
    "print(\"CountVectorizer and IDF models logged to MLflow successfully.\")\n"
   ]
  },
  {
   "cell_type": "markdown",
   "id": "3107e83b",
   "metadata": {},
   "source": [
    "### LDA"
   ]
  },
  {
   "cell_type": "code",
   "execution_count": 19,
   "id": "615298b3",
   "metadata": {},
   "outputs": [
    {
     "name": "stderr",
     "output_type": "stream",
     "text": [
      "24/11/09 22:18:58 ERROR Instrumentation: org.apache.hadoop.fs.UnsupportedFileSystemException: No FileSystem for scheme \"mlflow-artifacts\"\n",
      "\tat org.apache.hadoop.fs.FileSystem.getFileSystemClass(FileSystem.java:3443)\n",
      "\tat org.apache.hadoop.fs.FileSystem.createFileSystem(FileSystem.java:3466)\n",
      "\tat org.apache.hadoop.fs.FileSystem.access$300(FileSystem.java:174)\n",
      "\tat org.apache.hadoop.fs.FileSystem$Cache.getInternal(FileSystem.java:3574)\n",
      "\tat org.apache.hadoop.fs.FileSystem$Cache.get(FileSystem.java:3521)\n",
      "\tat org.apache.hadoop.fs.FileSystem.get(FileSystem.java:540)\n",
      "\tat org.apache.hadoop.fs.Path.getFileSystem(Path.java:365)\n",
      "\tat org.apache.spark.ml.util.FileSystemOverwrite.handleOverwrite(ReadWrite.scala:673)\n",
      "\tat org.apache.spark.ml.util.MLWriter.save(ReadWrite.scala:167)\n",
      "\tat org.apache.spark.ml.PipelineModel$PipelineModelWriter.super$save(Pipeline.scala:344)\n",
      "\tat org.apache.spark.ml.PipelineModel$PipelineModelWriter.$anonfun$save$4(Pipeline.scala:344)\n",
      "\tat org.apache.spark.ml.MLEvents.withSaveInstanceEvent(events.scala:174)\n",
      "\tat org.apache.spark.ml.MLEvents.withSaveInstanceEvent$(events.scala:169)\n",
      "\tat org.apache.spark.ml.util.Instrumentation.withSaveInstanceEvent(Instrumentation.scala:42)\n",
      "\tat org.apache.spark.ml.PipelineModel$PipelineModelWriter.$anonfun$save$3(Pipeline.scala:344)\n",
      "\tat org.apache.spark.ml.PipelineModel$PipelineModelWriter.$anonfun$save$3$adapted(Pipeline.scala:344)\n",
      "\tat org.apache.spark.ml.util.Instrumentation$.$anonfun$instrumented$1(Instrumentation.scala:191)\n",
      "\tat scala.util.Try$.apply(Try.scala:213)\n",
      "\tat org.apache.spark.ml.util.Instrumentation$.instrumented(Instrumentation.scala:191)\n",
      "\tat org.apache.spark.ml.PipelineModel$PipelineModelWriter.save(Pipeline.scala:344)\n",
      "\tat java.base/jdk.internal.reflect.NativeMethodAccessorImpl.invoke0(Native Method)\n",
      "\tat java.base/jdk.internal.reflect.NativeMethodAccessorImpl.invoke(NativeMethodAccessorImpl.java:62)\n",
      "\tat java.base/jdk.internal.reflect.DelegatingMethodAccessorImpl.invoke(DelegatingMethodAccessorImpl.java:43)\n",
      "\tat java.base/java.lang.reflect.Method.invoke(Method.java:566)\n",
      "\tat py4j.reflection.MethodInvoker.invoke(MethodInvoker.java:244)\n",
      "\tat py4j.reflection.ReflectionEngine.invoke(ReflectionEngine.java:374)\n",
      "\tat py4j.Gateway.invoke(Gateway.java:282)\n",
      "\tat py4j.commands.AbstractCommand.invokeMethod(AbstractCommand.java:132)\n",
      "\tat py4j.commands.CallCommand.execute(CallCommand.java:79)\n",
      "\tat py4j.ClientServerConnection.waitForCommands(ClientServerConnection.java:182)\n",
      "\tat py4j.ClientServerConnection.run(ClientServerConnection.java:106)\n",
      "\tat java.base/java.lang.Thread.run(Thread.java:829)\n",
      "\n",
      "Registered model 'lda_model_nlp' already exists. Creating a new version of this model...\n",
      "2024/11/09 22:19:07 INFO mlflow.store.model_registry.abstract_store: Waiting up to 300 seconds for model version to finish creation. Model name: lda_model_nlp, version 2\n",
      "Created version '2' of model 'lda_model_nlp'.\n",
      "2024/11/09 22:19:07 INFO mlflow.tracking._tracking_service.client: 🏃 View run judicious-ant-723 at: http://127.0.0.1:5000/#/experiments/774078483229346868/runs/ef12604c2fc7401fb822a629c0044b3e.\n",
      "2024/11/09 22:19:07 INFO mlflow.tracking._tracking_service.client: 🧪 View experiment at: http://127.0.0.1:5000/#/experiments/774078483229346868.\n"
     ]
    },
    {
     "name": "stdout",
     "output_type": "stream",
     "text": [
      "LDA model and parameters tracked successfully.\n"
     ]
    }
   ],
   "source": [
    "import mlflow\n",
    "import mlflow.spark\n",
    "from pyspark.sql import SparkSession\n",
    "from pyspark.ml.feature import NGram, CountVectorizer, IDF, Tokenizer\n",
    "from pyspark.ml.clustering import LDA\n",
    "from pyspark.sql.functions import col, array_union, expr, udf\n",
    "from pyspark.sql.types import IntegerType\n",
    "import numpy as np\n",
    "from mlflow.models import infer_signature\n",
    "\n",
    "remote_server_uri = \"http://127.0.0.1:5000\"  # set to your server URI\n",
    "mlflow.set_tracking_uri(remote_server_uri)\n",
    "mlflow.set_experiment(\"/NLP_SPARK_COMPLAINTS\")\n",
    "\n",
    "# Track the experiment with MLflow\n",
    "with mlflow.start_run() as run:\n",
    "    # Set parameters for tracking\n",
    "    k_topics = 5\n",
    "    seed_value = 42\n",
    "    max_iterations = 25\n",
    "    \n",
    "    # Log the parameters\n",
    "    mlflow.log_param(\"k_topics\", k_topics)\n",
    "    mlflow.log_param(\"seed\", seed_value)\n",
    "    mlflow.log_param(\"max_iterations\", max_iterations)\n",
    "\n",
    "    # Log the data\n",
    "    #mlflow.spark.log_table(df_tfidf, \"df_tfidf\")\n",
    "\n",
    "    # Apply LDA to find latent patterns in PQRS data\n",
    "    lda = LDA(k=k_topics, seed=seed_value, maxIter=max_iterations, featuresCol=\"tfidf_features\")\n",
    "    lda_model = lda.fit(df_tfidf)\n",
    "    # Transform the data to assign each transaction to a topic\n",
    "    df_transformed = lda_model.transform(df_tfidf)\n",
    "\n",
    "    input = df_tfidf.select(\"tfidf_features\")\n",
    "    output = df_transformed.select(\"topicDistribution\")\n",
    "\n",
    "    signature = infer_signature(input, output)\n",
    "\n",
    "    # Optionally, log metrics or results if applicable\n",
    "    # For example, logging log likelihood and log perplexity:\n",
    "    log_likelihood = lda_model.logLikelihood(df_tfidf)\n",
    "    log_perplexity = lda_model.logPerplexity(df_tfidf)\n",
    "    mlflow.log_metric(\"log_likelihood\", log_likelihood)\n",
    "    mlflow.log_metric(\"log_perplexity\", log_perplexity)\n",
    "\n",
    "    # Log the model\n",
    "    mlflow.spark.log_model(lda_model, \"lda_model\", registered_model_name=\"lda_model_nlp\", signature=signature)\n",
    "\n",
    "    # End the MLflow run\n",
    "    mlflow.end_run()\n",
    "\n",
    "print(\"LDA model and parameters tracked successfully.\")\n"
   ]
  },
  {
   "cell_type": "code",
   "execution_count": 20,
   "id": "576e90a8-8a47-4fa9-9fc6-3b86cda8cb5b",
   "metadata": {
    "execution": {
     "iopub.execute_input": "2024-11-07T22:39:34.149937Z",
     "iopub.status.busy": "2024-11-07T22:39:34.149437Z",
     "iopub.status.idle": "2024-11-07T22:39:37.681928Z",
     "shell.execute_reply": "2024-11-07T22:39:37.677422Z",
     "shell.execute_reply.started": "2024-11-07T22:39:34.149912Z"
    },
    "tags": []
   },
   "outputs": [
    {
     "name": "stderr",
     "output_type": "stream",
     "text": [
      "24/11/09 22:19:07 WARN DAGScheduler: Broadcasting large task binary with size 1136.8 KiB\n",
      "                                                                                \r"
     ]
    },
    {
     "name": "stdout",
     "output_type": "stream",
     "text": [
      "+--------------------+-----------------+\n",
      "|   topicDistribution|tema_predominante|\n",
      "+--------------------+-----------------+\n",
      "|[0.13310670088417...|                2|\n",
      "|[5.93507283365201...|                1|\n",
      "|[0.00109799921949...|                2|\n",
      "|[1.94947946482820...|                3|\n",
      "|[0.12078275437047...|                3|\n",
      "|[0.00855909609356...|                2|\n",
      "|[1.03330507183237...|                1|\n",
      "|[0.29203309824202...|                1|\n",
      "|[7.40036904564260...|                4|\n",
      "|[0.00260048908742...|                2|\n",
      "|[0.00716337018741...|                1|\n",
      "|[3.89779006149586...|                2|\n",
      "|[6.57056267549551...|                1|\n",
      "|[0.08751543646143...|                3|\n",
      "|[0.02833382578359...|                4|\n",
      "|[4.56366095543165...|                1|\n",
      "|[8.90549190764894...|                4|\n",
      "|[0.00205213960286...|                4|\n",
      "|[0.32888814868016...|                2|\n",
      "|[1.59795049544360...|                1|\n",
      "+--------------------+-----------------+\n",
      "only showing top 20 rows\n",
      "\n",
      "Tema 0:\n",
      "Términos predominantes: ['loan', 'mortgage', 'home', 'modification', 'property', 'payment', 'foreclosure', 'sale', 'house', 'document']\n",
      "Pesos de términos: [0.013326386454560466, 0.010754017452233226, 0.006321814741680889, 0.00606103887914607, 0.005476479253614503, 0.004948724872998746, 0.004133237082838254, 0.003991688485649169, 0.0039873539402145415, 0.003938429379389897]\n",
      "\n",
      "\n",
      "Tema 1:\n",
      "Términos predominantes: ['check', 'deposit', 'fund', 'account', 'branch', 'bank', 'call', 'money', 'tell', 'day']\n",
      "Pesos de términos: [0.009318808323817632, 0.007125102833802727, 0.006117925697727863, 0.005091663852551009, 0.004617728330665142, 0.004576132862491412, 0.004268397994137908, 0.0038232843976937617, 0.0036081635814134197, 0.0034485011048234946]\n",
      "\n",
      "\n",
      "Tema 2:\n",
      "Términos predominantes: ['report', 'credit', 'inquiry', 'dispute', 'consumer', 'merchant', 'information', 'card', 'provide', 'charge']\n",
      "Pesos de términos: [0.008674133992599576, 0.0076859045299654954, 0.006143421859832536, 0.00585475442777331, 0.0052395564378805385, 0.005018958497790658, 0.004491322582940942, 0.0041468757294674365, 0.0038839447455949806, 0.003748653154284562]\n",
      "\n",
      "\n",
      "Tema 3:\n",
      "Términos predominantes: ['payment', 'fee', 'balance', 'card', 'account', 'credit', 'interest', 'pay', 'close', 'charge']\n",
      "Pesos de términos: [0.008072842664026013, 0.007858936813318356, 0.00710147513167588, 0.0066771699012965, 0.0061707993484845895, 0.0058026136889775285, 0.005698703955880643, 0.005473718858581834, 0.004955092456147636, 0.004670284531130724]\n",
      "\n",
      "\n",
      "Tema 4:\n",
      "Términos predominantes: ['charge', 'fraud', 'transaction', 'claim', 'card', 'money', 'call', 'tell', 'account', 'bank']\n",
      "Pesos de términos: [0.006688906900619677, 0.006393557334470632, 0.006376488851862867, 0.005593886223578073, 0.005382665800435325, 0.0050586159112311815, 0.005020336388508866, 0.004723135865544357, 0.004507948209553613, 0.0044718251399047]\n",
      "\n",
      "\n"
     ]
    }
   ],
   "source": [
    "def get_predominant_topic(topic_distribution):\n",
    "    return int(np.argmax(topic_distribution))\n",
    "\n",
    "# Registrar la función UDF para obtener el tema predominante\n",
    "get_predominant_topic_udf = udf(get_predominant_topic, IntegerType())\n",
    "\n",
    "# Agregar columna para el tema predominante y mantener la distribución de temas\n",
    "df_results = df_transformed.withColumn(\"tema_predominante\", get_predominant_topic_udf(\"topicDistribution\"))\n",
    "\n",
    "# Mostrar el tema predominante y la distribución de temas para cada documento\n",
    "df_results.select(\"topicDistribution\", \"tema_predominante\").show()\n",
    "\n",
    "# Obtener los términos predominantes de cada tema\n",
    "topics = lda_model.describeTopics(10)  # Obtiene los 10 términos principales por tema\n",
    "\n",
    "# Extraer los términos del vocabulario para interpretar cada tema\n",
    "vocab = cv_model.vocabulary  # Supone que 'cv_model' es el CountVectorizer ajustado anteriormente\n",
    "\n",
    "# Mostrar términos predominantes y distribución de temas para cada tema\n",
    "for topic in range(5):  # Itera sobre el número de temas\n",
    "    term_indices = topics.where(col(\"topic\") == topic).select(\"termIndices\").head()[0]\n",
    "    term_weights = topics.where(col(\"topic\") == topic).select(\"termWeights\").head()[0]\n",
    "    terms = [vocab[idx] for idx in term_indices]\n",
    "    print(f\"Tema {topic}:\")\n",
    "    print(\"Términos predominantes:\", terms)\n",
    "    print(\"Pesos de términos:\", term_weights)\n",
    "    print(\"\\n\")"
   ]
  },
  {
   "cell_type": "code",
   "execution_count": null,
   "id": "f11d36ec",
   "metadata": {},
   "outputs": [
    {
     "name": "stdout",
     "output_type": "stream",
     "text": [
      "Tema 0:\n",
      "Términos predominantes: ['loan', 'mortgage', 'home', 'modification', 'property', 'payment', 'foreclosure', 'sale', 'house', 'document', 'escrow', 'debt', 'tax', 'pay', 'year']\n",
      "Pesos de términos: [0.013326386454560466, 0.010754017452233226, 0.006321814741680889, 0.00606103887914607, 0.005476479253614503, 0.004948724872998746, 0.004133237082838254, 0.003991688485649169, 0.0039873539402145415, 0.003938429379389897, 0.0037066256251785147, 0.003595674584562267, 0.003321002343225685, 0.003274737410922139, 0.0031771071020010653]\n",
      "\n",
      "\n",
      "Tema 1:\n",
      "Términos predominantes: ['check', 'deposit', 'fund', 'account', 'branch', 'bank', 'call', 'money', 'tell', 'day', 'cash', 'receive', 'hold', 'wire', 'claim']\n",
      "Pesos de términos: [0.009318808323817632, 0.007125102833802727, 0.006117925697727863, 0.005091663852551009, 0.004617728330665142, 0.004576132862491412, 0.004268397994137908, 0.0038232843976937617, 0.0036081635814134197, 0.0034485011048234946, 0.003253731934923443, 0.0031586013452838215, 0.0031561090789716238, 0.003143922258680878, 0.0030435483994444724]\n",
      "\n",
      "\n",
      "Tema 2:\n",
      "Términos predominantes: ['report', 'credit', 'inquiry', 'dispute', 'consumer', 'merchant', 'information', 'card', 'provide', 'charge', 'request', 'act', 'company', 'letter', 'account']\n",
      "Pesos de términos: [0.008674133992599576, 0.0076859045299654954, 0.006143421859832536, 0.00585475442777331, 0.0052395564378805385, 0.005018958497790658, 0.004491322582940942, 0.0041468757294674365, 0.0038839447455949806, 0.003748653154284562, 0.0037012413136544263, 0.0035932357127632566, 0.0034907142793746517, 0.0033381924610178383, 0.0032394113985875998]\n",
      "\n",
      "\n",
      "Tema 3:\n",
      "Términos predominantes: ['payment', 'fee', 'balance', 'card', 'account', 'credit', 'interest', 'pay', 'close', 'charge', 'late', 'month', 'due', 'call', 'bank']\n",
      "Pesos de términos: [0.008072842664026013, 0.007858936813318356, 0.00710147513167588, 0.0066771699012965, 0.0061707993484845895, 0.0058026136889775285, 0.005698703955880643, 0.005473718858581834, 0.004955092456147636, 0.004670284531130724, 0.004000148402094068, 0.003944208582819459, 0.003844265967955033, 0.003670643659785599, 0.003633914436563203]\n",
      "\n",
      "\n",
      "Tema 4:\n",
      "Términos predominantes: ['charge', 'fraud', 'transaction', 'claim', 'card', 'money', 'call', 'tell', 'account', 'bank', 'number', 'dispute', 'back', 'check', 'email']\n",
      "Pesos de términos: [0.006688906900619677, 0.006393557334470632, 0.006376488851862867, 0.005593886223578073, 0.005382665800435325, 0.0050586159112311815, 0.005020336388508866, 0.004723135865544357, 0.004507948209553613, 0.0044718251399047, 0.004376157778527088, 0.004368587940886154, 0.004212549886591844, 0.004179257616993921, 0.004071303309743993]\n",
      "\n",
      "\n"
     ]
    }
   ],
   "source": [
    "# Obtener los términos predominantes de cada tema\n",
    "topics = lda_model.describeTopics(15)  # Obtiene los 15 términos principales por tema\n",
    "\n",
    "# Extraer los términos del vocabulario para interpretar cada tema\n",
    "vocab = cv_model.vocabulary  # Supone que 'cv_model' es el CountVectorizer ajustado anteriormente\n",
    "\n",
    "# Mostrar términos predominantes y distribución de temas para cada tema\n",
    "for topic in range(5):  # Itera sobre el número de temas\n",
    "    term_indices = topics.where(col(\"topic\") == topic).select(\"termIndices\").head()[0]\n",
    "    term_weights = topics.where(col(\"topic\") == topic).select(\"termWeights\").head()[0]\n",
    "    terms = [vocab[idx] for idx in term_indices]\n",
    "    print(f\"Tema {topic}:\")\n",
    "    print(\"Términos predominantes:\", terms)\n",
    "    print(\"Pesos de términos:\", term_weights)\n",
    "    print(\"\\n\")"
   ]
  },
  {
   "cell_type": "markdown",
   "id": "8759eb51",
   "metadata": {},
   "source": [
    "- Tema 0: Hipotecas y Bienes Raíces\n",
    "\n",
    "Descripción: Este tema se centra en términos relacionados con préstamos, hipotecas, propiedades, pagos y procesos de ejecución hipotecaria.\n",
    "Categoría Propuesta: \"Préstamos Hipotecarios y Propiedades\"\n",
    "\n",
    "- Tema 1: Operaciones Bancarias y Transacciones en Sucursales\n",
    "\n",
    "Descripción: Los términos indican interacciones en sucursales bancarias, como depósitos, cheques, manejo de fondos y consultas de cuentas.\n",
    "Categoría Propuesta: \"Operaciones Bancarias y Sucursales\"\n",
    "\n",
    "- Tema 2: Informes de Crédito y Disputas\n",
    "\n",
    "Descripción: Los términos están relacionados con informes de crédito, disputas, consultas y protección del consumidor.\n",
    "Categoría Propuesta: \"Reportes de Crédito y Protección del Consumidor\"\n",
    "\n",
    "- Tema 3: Tarjetas de Crédito y Cargos de Intereses\n",
    "\n",
    "Descripción: Se enfoca en pagos de tarjetas de crédito, saldos, intereses y cargos por pagos atrasados.\n",
    "Categoría Propuesta: \"Tarjetas de Crédito y Cargos Financieros\"\n",
    "\n",
    "- Tema 4: Fraude y Disputas de Transacciones\n",
    "\n",
    "Descripción: Este tema abarca términos sobre fraudes, disputas de transacciones y problemas con tarjetas y cuentas bancarias.\n",
    "Categoría Propuesta: \"Fraude y Disputas de Transacciones\"\n"
   ]
  },
  {
   "cell_type": "code",
   "execution_count": 21,
   "id": "70028bab-40aa-4c50-b17b-d3b5336ae748",
   "metadata": {
    "execution": {
     "iopub.execute_input": "2024-11-07T22:39:37.684893Z",
     "iopub.status.busy": "2024-11-07T22:39:37.684363Z",
     "iopub.status.idle": "2024-11-07T22:41:43.403172Z",
     "shell.execute_reply": "2024-11-07T22:41:43.402561Z",
     "shell.execute_reply.started": "2024-11-07T22:39:37.684852Z"
    },
    "tags": []
   },
   "outputs": [
    {
     "name": "stderr",
     "output_type": "stream",
     "text": [
      "24/11/09 22:19:10 WARN DAGScheduler: Broadcasting large task binary with size 1130.0 KiB\n",
      "[Stage 131:==================================================>    (11 + 1) / 12]\r"
     ]
    },
    {
     "name": "stdout",
     "output_type": "stream",
     "text": [
      "+-----------------+-----+\n",
      "|tema_predominante|count|\n",
      "+-----------------+-----+\n",
      "|                0| 3851|\n",
      "|                1| 3120|\n",
      "|                2| 3299|\n",
      "|                3| 5640|\n",
      "|                4| 5162|\n",
      "+-----------------+-----+\n",
      "\n"
     ]
    },
    {
     "name": "stderr",
     "output_type": "stream",
     "text": [
      "24/11/09 22:21:35 WARN DAGScheduler: Broadcasting large task binary with size 1088.8 KiB\n",
      "                                                                                \r"
     ]
    }
   ],
   "source": [
    "from pyspark.sql import functions as F\n",
    "\n",
    "# Agrupar por `tema_predominante` y contar la cantidad de documentos en cada tema\n",
    "df_topic_counts = df_results.groupBy(\"tema_predominante\").agg(F.count(\"*\").alias(\"count\"))\n",
    "\n",
    "# Mostrar la distribución de temas predominantes\n",
    "df_topic_counts.orderBy(\"tema_predominante\").show()"
   ]
  },
  {
   "cell_type": "markdown",
   "id": "be8ea6db-e902-4713-9a58-c7394382232d",
   "metadata": {},
   "source": [
    "## Modelado"
   ]
  },
  {
   "cell_type": "markdown",
   "id": "bf925a3f-66d1-4d5c-ab40-14afd70b63a6",
   "metadata": {},
   "source": [
    "### Regresion Logistica"
   ]
  },
  {
   "cell_type": "code",
   "execution_count": 26,
   "id": "bcb6c254",
   "metadata": {},
   "outputs": [],
   "source": [
    "train_data, test_data = df_results.randomSplit([0.7, 0.3], seed=42)"
   ]
  },
  {
   "cell_type": "code",
   "execution_count": 29,
   "id": "c7b7cbe1",
   "metadata": {},
   "outputs": [
    {
     "name": "stderr",
     "output_type": "stream",
     "text": [
      "24/11/09 22:30:29 WARN DAGScheduler: Broadcasting large task binary with size 1249.8 KiB\n",
      "24/11/09 22:32:54 WARN DAGScheduler: Broadcasting large task binary with size 1251.0 KiB\n",
      "24/11/09 22:32:54 WARN DAGScheduler: Broadcasting large task binary with size 1250.4 KiB\n",
      "24/11/09 22:35:23 WARN DAGScheduler: Broadcasting large task binary with size 1251.6 KiB\n",
      "24/11/09 22:35:23 WARN DAGScheduler: Broadcasting large task binary with size 1250.4 KiB\n",
      "24/11/09 22:35:23 WARN DAGScheduler: Broadcasting large task binary with size 1251.6 KiB\n",
      "24/11/09 22:35:23 WARN DAGScheduler: Broadcasting large task binary with size 1250.4 KiB\n",
      "24/11/09 22:35:24 WARN DAGScheduler: Broadcasting large task binary with size 1251.6 KiB\n",
      "24/11/09 22:35:24 WARN DAGScheduler: Broadcasting large task binary with size 1250.4 KiB\n",
      "24/11/09 22:35:24 WARN DAGScheduler: Broadcasting large task binary with size 1251.6 KiB\n",
      "24/11/09 22:35:24 WARN DAGScheduler: Broadcasting large task binary with size 1250.4 KiB\n",
      "24/11/09 22:35:24 WARN DAGScheduler: Broadcasting large task binary with size 1251.6 KiB\n",
      "24/11/09 22:35:24 WARN DAGScheduler: Broadcasting large task binary with size 1250.4 KiB\n",
      "24/11/09 22:35:24 WARN DAGScheduler: Broadcasting large task binary with size 1251.6 KiB\n",
      "24/11/09 22:35:24 WARN DAGScheduler: Broadcasting large task binary with size 1250.4 KiB\n",
      "24/11/09 22:35:24 WARN DAGScheduler: Broadcasting large task binary with size 1251.6 KiB\n",
      "24/11/09 22:35:24 WARN DAGScheduler: Broadcasting large task binary with size 1250.4 KiB\n",
      "24/11/09 22:35:24 WARN DAGScheduler: Broadcasting large task binary with size 1251.6 KiB\n",
      "24/11/09 22:35:24 WARN DAGScheduler: Broadcasting large task binary with size 1250.4 KiB\n",
      "24/11/09 22:35:24 WARN DAGScheduler: Broadcasting large task binary with size 1251.6 KiB\n",
      "24/11/09 22:35:24 WARN DAGScheduler: Broadcasting large task binary with size 1250.4 KiB\n",
      "24/11/09 22:35:24 WARN DAGScheduler: Broadcasting large task binary with size 1251.6 KiB\n",
      "24/11/09 22:35:24 WARN DAGScheduler: Broadcasting large task binary with size 1250.4 KiB\n",
      "24/11/09 22:35:24 WARN DAGScheduler: Broadcasting large task binary with size 1251.6 KiB\n",
      "24/11/09 22:35:25 WARN DAGScheduler: Broadcasting large task binary with size 1805.7 KiB\n",
      "24/11/09 22:37:53 WARN DAGScheduler: Broadcasting large task binary with size 1805.7 KiB\n"
     ]
    },
    {
     "name": "stdout",
     "output_type": "stream",
     "text": [
      "Test Set Accuracy = 0.7992006394884092\n"
     ]
    },
    {
     "name": "stderr",
     "output_type": "stream",
     "text": [
      "                                                                                \r"
     ]
    },
    {
     "name": "stdout",
     "output_type": "stream",
     "text": [
      "Test Set F1 Score = 0.7986986601913686\n"
     ]
    },
    {
     "name": "stderr",
     "output_type": "stream",
     "text": [
      "Registered model 'LogisticRegression_NLP_Model' already exists. Creating a new version of this model...\n",
      "2024/11/09 22:40:29 INFO mlflow.store.model_registry.abstract_store: Waiting up to 300 seconds for model version to finish creation. Model name: LogisticRegression_NLP_Model, version 3\n",
      "Created version '3' of model 'LogisticRegression_NLP_Model'.\n",
      "2024/11/09 22:40:29 INFO mlflow.tracking._tracking_service.client: 🏃 View run bold-bat-756 at: http://127.0.0.1:5000/#/experiments/253890346147790682/runs/3dc1590496fc4957890c64055b5ef444.\n",
      "2024/11/09 22:40:29 INFO mlflow.tracking._tracking_service.client: 🧪 View experiment at: http://127.0.0.1:5000/#/experiments/253890346147790682.\n"
     ]
    },
    {
     "name": "stdout",
     "output_type": "stream",
     "text": [
      "Modelo de Regresión Logística y métricas registradas en MLflow exitosamente.\n"
     ]
    }
   ],
   "source": [
    "import mlflow\n",
    "import mlflow.spark\n",
    "from pyspark.ml.classification import LogisticRegression\n",
    "from pyspark.ml.evaluation import MulticlassClassificationEvaluator\n",
    "from mlflow.types import Schema, ColSpec\n",
    "from mlflow.models import ModelSignature\n",
    "from mlflow.models import infer_signature\n",
    "\n",
    "remote_server_uri = \"http://127.0.0.1:5000\"  # set to your server URI\n",
    "mlflow.set_tracking_uri(remote_server_uri)\n",
    "\n",
    "experiment_name = \"/NLP_SPARK_COMPLAINTS_Classification1\"\n",
    "mlflow.create_experiment(experiment_name, artifact_location=\"file:///tmp/mlflow-artifacts\")\n",
    "mlflow.set_experiment(experiment_name)\n",
    "\n",
    "# Inicia un nuevo experimento en MLflow\n",
    "with mlflow.start_run() as run:\n",
    "    # Crea el modelo de regresión logística\n",
    "    lr = LogisticRegression(featuresCol='tfidf_features', labelCol='tema_predominante', maxIter=10)\n",
    "    \n",
    "    # Ajusta el modelo en los datos de entrenamiento\n",
    "    lr_model = lr.fit(train_data)\n",
    "    test_df = train_data.select(\"tfidf_features\")\n",
    "    \n",
    "    # Realiza predicciones en el conjunto de prueba\n",
    "    predictions = lr_model.transform(test_data)\n",
    "    predictions_df = predictions.select(\"prediction\")\n",
    "\n",
    "    # Inferir Schema\n",
    "    signature = infer_signature(test_df, predictions_df)\n",
    "    \n",
    "    # Evaluación de precisión\n",
    "    evaluator_accuracy = MulticlassClassificationEvaluator(\n",
    "        labelCol=\"tema_predominante\", predictionCol=\"prediction\", metricName=\"accuracy\")\n",
    "    accuracy = evaluator_accuracy.evaluate(predictions)\n",
    "    print(f\"Test Set Accuracy = {accuracy}\")\n",
    "    \n",
    "    # Evaluación del puntaje F1\n",
    "    evaluator_f1 = MulticlassClassificationEvaluator(\n",
    "        labelCol=\"tema_predominante\", predictionCol=\"prediction\", metricName=\"f1\")\n",
    "    f1 = evaluator_f1.evaluate(predictions)\n",
    "    print(f\"Test Set F1 Score = {f1}\")\n",
    "    \n",
    "    # Registra métricas adicionales en MLflow\n",
    "    mlflow.log_metric(\"accuracy\", accuracy)\n",
    "    mlflow.log_metric(\"f1_score\", f1)\n",
    "    \n",
    "    # Registra el modelo en MLflow (ya se registra automáticamente con autolog, pero puedes hacerlo explícitamente)\n",
    "    mlflow.spark.log_model(lr_model, \"logistic_regression_model\", registered_model_name=\"LogisticRegression_NLP_Model\", signature=signature)\n",
    "\n",
    "print(\"Modelo de Regresión Logística y métricas registradas en MLflow exitosamente.\")\n"
   ]
  },
  {
   "cell_type": "markdown",
   "id": "8018092e-5b37-4a3f-911b-70693060f686",
   "metadata": {},
   "source": [
    "### Decision Tree"
   ]
  },
  {
   "cell_type": "code",
   "execution_count": 30,
   "id": "5a57beff-0029-4b90-bcc6-092a46627301",
   "metadata": {
    "execution": {
     "iopub.execute_input": "2024-11-07T22:55:41.154856Z",
     "iopub.status.busy": "2024-11-07T22:55:41.154633Z",
     "iopub.status.idle": "2024-11-07T23:13:09.679956Z",
     "shell.execute_reply": "2024-11-07T23:13:09.679233Z",
     "shell.execute_reply.started": "2024-11-07T22:55:41.154832Z"
    },
    "tags": []
   },
   "outputs": [
    {
     "name": "stderr",
     "output_type": "stream",
     "text": [
      "24/11/09 22:45:41 WARN DAGScheduler: Broadcasting large task binary with size 1189.9 KiB\n",
      "24/11/09 22:48:07 WARN DAGScheduler: Broadcasting large task binary with size 1246.1 KiB\n",
      "24/11/09 22:50:26 WARN DAGScheduler: Broadcasting large task binary with size 1246.2 KiB\n",
      "24/11/09 22:52:53 WARN DAGScheduler: Broadcasting large task binary with size 1393.0 KiB\n",
      "24/11/09 22:55:23 WARN DAGScheduler: Broadcasting large task binary with size 1756.4 KiB\n",
      "24/11/09 22:57:51 WARN DAGScheduler: Broadcasting large task binary with size 1757.2 KiB\n",
      "24/11/09 22:57:52 WARN DAGScheduler: Broadcasting large task binary with size 1757.9 KiB\n",
      "24/11/09 22:57:53 WARN DAGScheduler: Broadcasting large task binary with size 1759.2 KiB\n",
      "24/11/09 22:57:55 WARN DAGScheduler: Broadcasting large task binary with size 1761.9 KiB\n",
      "24/11/09 22:57:56 WARN DAGScheduler: Broadcasting large task binary with size 1767.1 KiB\n",
      "24/11/09 22:57:58 WARN DAGScheduler: Broadcasting large task binary with size 1776.2 KiB\n",
      "24/11/09 22:58:00 WARN DAGScheduler: Broadcasting large task binary with size 1792.4 KiB\n",
      "24/11/09 22:58:03 WARN DAGScheduler: Broadcasting large task binary with size 1817.5 KiB\n",
      "24/11/09 22:58:06 WARN DAGScheduler: Broadcasting large task binary with size 1849.7 KiB\n",
      "24/11/09 22:58:09 WARN DAGScheduler: Broadcasting large task binary with size 1885.3 KiB\n",
      "24/11/09 22:58:13 WARN DAGScheduler: Broadcasting large task binary with size 1927.1 KiB\n",
      "24/11/09 22:58:16 WARN DAGScheduler: Broadcasting large task binary with size 1970.8 KiB\n",
      "24/11/09 22:58:20 WARN DAGScheduler: Broadcasting large task binary with size 2014.5 KiB\n",
      "24/11/09 22:58:23 WARN DAGScheduler: Broadcasting large task binary with size 2.0 MiB\n",
      "24/11/09 22:58:26 WARN DAGScheduler: Broadcasting large task binary with size 2.1 MiB\n",
      "24/11/09 22:58:29 WARN DAGScheduler: Broadcasting large task binary with size 2.1 MiB\n",
      "24/11/09 22:58:33 WARN DAGScheduler: Broadcasting large task binary with size 2.1 MiB\n",
      "24/11/09 22:58:36 WARN DAGScheduler: Broadcasting large task binary with size 2.2 MiB\n",
      "24/11/09 22:58:39 WARN DAGScheduler: Broadcasting large task binary with size 2.2 MiB\n",
      "24/11/09 22:58:42 WARN DAGScheduler: Broadcasting large task binary with size 2.3 MiB\n",
      "24/11/09 22:58:42 WARN DAGScheduler: Broadcasting large task binary with size 2.3 MiB\n",
      "24/11/09 22:58:43 WARN DAGScheduler: Broadcasting large task binary with size 2.3 MiB\n",
      "24/11/09 22:58:43 WARN DAGScheduler: Broadcasting large task binary with size 2.3 MiB\n",
      "24/11/09 22:58:43 WARN DAGScheduler: Broadcasting large task binary with size 2.3 MiB\n",
      "24/11/09 22:58:43 WARN DAGScheduler: Broadcasting large task binary with size 2.3 MiB\n",
      "24/11/09 22:58:44 WARN DAGScheduler: Broadcasting large task binary with size 2.3 MiB\n",
      "24/11/09 22:58:44 WARN DAGScheduler: Broadcasting large task binary with size 1600.8 KiB\n",
      "24/11/09 23:01:06 WARN DAGScheduler: Broadcasting large task binary with size 1600.8 KiB\n"
     ]
    },
    {
     "name": "stdout",
     "output_type": "stream",
     "text": [
      "Exactitud del conjunto de prueba (Decision Tree) = 0.5389288569144685\n"
     ]
    },
    {
     "name": "stderr",
     "output_type": "stream",
     "text": [
      "                                                                                \r"
     ]
    },
    {
     "name": "stdout",
     "output_type": "stream",
     "text": [
      "Puntaje F1 del conjunto de prueba (Decision Tree) = 0.537718916871764\n"
     ]
    },
    {
     "name": "stderr",
     "output_type": "stream",
     "text": [
      "Successfully registered model 'DecisionTree_NLP_Model'.\n",
      "2024/11/09 23:03:42 INFO mlflow.store.model_registry.abstract_store: Waiting up to 300 seconds for model version to finish creation. Model name: DecisionTree_NLP_Model, version 1\n",
      "Created version '1' of model 'DecisionTree_NLP_Model'.\n",
      "2024/11/09 23:03:43 INFO mlflow.tracking._tracking_service.client: 🏃 View run nervous-koi-618 at: http://127.0.0.1:5000/#/experiments/253890346147790682/runs/777089b6bfb34cd693cc4dea985a0800.\n",
      "2024/11/09 23:03:43 INFO mlflow.tracking._tracking_service.client: 🧪 View experiment at: http://127.0.0.1:5000/#/experiments/253890346147790682.\n"
     ]
    },
    {
     "name": "stdout",
     "output_type": "stream",
     "text": [
      "Modelo de Decision Tree y métricas registradas en MLflow exitosamente.\n"
     ]
    }
   ],
   "source": [
    "import mlflow\n",
    "import mlflow.spark\n",
    "from pyspark.ml.classification import DecisionTreeClassifier\n",
    "from pyspark.ml.evaluation import MulticlassClassificationEvaluator\n",
    "from mlflow.models import infer_signature\n",
    "\n",
    "# Establecer el URI de seguimiento de MLflow\n",
    "remote_server_uri = \"http://127.0.0.1:5000\"\n",
    "mlflow.set_tracking_uri(remote_server_uri)\n",
    "\n",
    "# Definir el nombre del experimento\n",
    "experiment_name = \"/NLP_SPARK_COMPLAINTS_Classification1\"\n",
    "mlflow.set_experiment(experiment_name)\n",
    "\n",
    "# Iniciar un nuevo experimento en MLflow\n",
    "with mlflow.start_run() as run:\n",
    "    # Crear el modelo Decision Tree\n",
    "    dt = DecisionTreeClassifier(featuresCol='tfidf_features', labelCol='tema_predominante', maxDepth=20, seed=42)\n",
    "    \n",
    "    # Registrar los parámetros del modelo\n",
    "    mlflow.log_param(\"maxDepth\", 20)\n",
    "    mlflow.log_param(\"seed\", 42)\n",
    "\n",
    "    # Entrenar el modelo con los datos de entrenamiento\n",
    "    dt_model = dt.fit(train_data)\n",
    "\n",
    "    # Realizar predicciones en los datos de prueba\n",
    "    dt_predictions = dt_model.transform(test_data)\n",
    "    \n",
    "    # Inferir el esquema de entrada y salida para el modelo\n",
    "    signature = infer_signature(test_data.select(\"tfidf_features\"), dt_predictions.select(\"prediction\"))\n",
    "\n",
    "    # Evaluar el modelo usando MulticlassClassificationEvaluator\n",
    "    evaluator_accuracy = MulticlassClassificationEvaluator(\n",
    "        labelCol=\"tema_predominante\", predictionCol=\"prediction\", metricName=\"accuracy\")\n",
    "    dt_accuracy = evaluator_accuracy.evaluate(dt_predictions)\n",
    "    print(f\"Exactitud del conjunto de prueba (Decision Tree) = {dt_accuracy}\")\n",
    "\n",
    "    evaluator_f1 = MulticlassClassificationEvaluator(\n",
    "        labelCol=\"tema_predominante\", predictionCol=\"prediction\", metricName=\"f1\")\n",
    "    dt_f1 = evaluator_f1.evaluate(dt_predictions)\n",
    "    print(f\"Puntaje F1 del conjunto de prueba (Decision Tree) = {dt_f1}\")\n",
    "\n",
    "    # Registrar las métricas en MLflow\n",
    "    mlflow.log_metric(\"accuracy\", dt_accuracy)\n",
    "    mlflow.log_metric(\"f1_score\", dt_f1)\n",
    "    \n",
    "    # Registrar el modelo en MLflow\n",
    "    mlflow.spark.log_model(dt_model, \"decision_tree_model\", registered_model_name=\"DecisionTree_NLP_Model\", signature=signature)\n",
    "\n",
    "print(\"Modelo de Decision Tree y métricas registradas en MLflow exitosamente.\")\n",
    "\n"
   ]
  },
  {
   "cell_type": "markdown",
   "id": "e58b9f10-a066-40fa-96e4-711a9f285ebe",
   "metadata": {},
   "source": [
    "### Random Forest"
   ]
  },
  {
   "cell_type": "code",
   "execution_count": null,
   "id": "77868ac0-98f7-4e27-a5a9-7375ebd724ff",
   "metadata": {
    "execution": {
     "iopub.execute_input": "2024-11-07T23:13:09.683209Z",
     "iopub.status.busy": "2024-11-07T23:13:09.682968Z",
     "iopub.status.idle": "2024-11-07T23:30:21.811653Z",
     "shell.execute_reply": "2024-11-07T23:30:21.810983Z",
     "shell.execute_reply.started": "2024-11-07T23:13:09.683184Z"
    },
    "tags": []
   },
   "outputs": [
    {
     "data": {
      "application/vnd.jupyter.widget-view+json": {
       "model_id": "ae499481bb05441aaf9350b82bba7101",
       "version_major": 2,
       "version_minor": 0
      },
      "text/plain": [
       "VBox()"
      ]
     },
     "metadata": {},
     "output_type": "display_data"
    },
    {
     "data": {
      "application/vnd.jupyter.widget-view+json": {
       "model_id": "",
       "version_major": 2,
       "version_minor": 0
      },
      "text/plain": [
       "FloatProgress(value=0.0, bar_style='info', description='Progress:', layout=Layout(height='25px', width='50%'),…"
      ]
     },
     "metadata": {},
     "output_type": "display_data"
    },
    {
     "name": "stdout",
     "output_type": "stream",
     "text": [
      "Exactitud del conjunto de prueba (Random Forest) = 0.4545163868904876\n",
      "Puntaje F1 del conjunto de prueba (Random Forest) = 0.3206838704891863\n",
      "Recall del conjunto de prueba (Random Forest) = 0.4545163868904876"
     ]
    }
   ],
   "source": [
    "from pyspark.ml.classification import RandomForestClassifier\n",
    "from pyspark.ml.evaluation import MulticlassClassificationEvaluator\n",
    "\n",
    "# Crear el modelo Random Forest\n",
    "rf = RandomForestClassifier(featuresCol='tfidf_features', labelCol='tema_predominante', numTrees=50, seed=42)\n",
    "\n",
    "# Entrenar el modelo con los datos de entrenamiento\n",
    "rf_model = rf.fit(train_data)\n",
    "\n",
    "# Realizar predicciones en los datos de prueba\n",
    "rf_predictions = rf_model.transform(test_data)\n",
    "\n",
    "# Evaluar el modelo usando MulticlassClassificationEvaluator\n",
    "\n",
    "# Exactitud (Accuracy)\n",
    "evaluator_accuracy = MulticlassClassificationEvaluator(\n",
    "    labelCol=\"tema_predominante\", predictionCol=\"prediction\", metricName=\"accuracy\")\n",
    "rf_accuracy = evaluator_accuracy.evaluate(rf_predictions)\n",
    "print(f\"Exactitud del conjunto de prueba (Random Forest) = {rf_accuracy}\")\n",
    "\n",
    "# Puntaje F1\n",
    "evaluator_f1 = MulticlassClassificationEvaluator(\n",
    "    labelCol=\"tema_predominante\", predictionCol=\"prediction\", metricName=\"f1\")\n",
    "rf_f1 = evaluator_f1.evaluate(rf_predictions)\n",
    "print(f\"Puntaje F1 del conjunto de prueba (Random Forest) = {rf_f1}\")\n",
    "\n",
    "# Recall\n",
    "evaluator_recall = MulticlassClassificationEvaluator(\n",
    "    labelCol=\"tema_predominante\", predictionCol=\"prediction\", metricName=\"weightedRecall\")\n",
    "rf_recall = evaluator_recall.evaluate(rf_predictions)\n",
    "print(f\"Recall del conjunto de prueba (Random Forest) = {rf_recall}\")"
   ]
  },
  {
   "cell_type": "code",
   "execution_count": null,
   "id": "0d83b8fd-a06e-491e-b72e-3021256411de",
   "metadata": {
    "execution": {
     "iopub.execute_input": "2024-11-07T23:30:46.828117Z",
     "iopub.status.busy": "2024-11-07T23:30:46.827885Z",
     "iopub.status.idle": "2024-11-07T23:30:50.097323Z",
     "shell.execute_reply": "2024-11-07T23:30:50.096721Z",
     "shell.execute_reply.started": "2024-11-07T23:30:46.828090Z"
    },
    "tags": []
   },
   "outputs": [
    {
     "data": {
      "application/vnd.jupyter.widget-view+json": {
       "model_id": "13090f8fab4f4d96ba8bdcaf6eff7e0c",
       "version_major": 2,
       "version_minor": 0
      },
      "text/plain": [
       "VBox()"
      ]
     },
     "metadata": {},
     "output_type": "display_data"
    },
    {
     "data": {
      "application/vnd.jupyter.widget-view+json": {
       "model_id": "",
       "version_major": 2,
       "version_minor": 0
      },
      "text/plain": [
       "FloatProgress(value=0.0, bar_style='info', description='Progress:', layout=Layout(height='25px', width='50%'),…"
      ]
     },
     "metadata": {},
     "output_type": "display_data"
    }
   ],
   "source": [
    "## saving\n",
    "# Define la ruta en S3 para almacenar el modelo de Rndom Forest\n",
    "s3_path_rf_model = \"s3://bucketspark14/models/random_forest_final\"\n",
    "\n",
    "# Guardar el modelo de RF en S3\n",
    "rf_model.save(s3_path_rf_model)"
   ]
  },
  {
   "cell_type": "code",
   "execution_count": 35,
   "id": "7984a682-54b4-4d47-b0c5-4216dceafd29",
   "metadata": {
    "execution": {
     "iopub.execute_input": "2024-11-07T23:30:50.098589Z",
     "iopub.status.busy": "2024-11-07T23:30:50.098427Z",
     "iopub.status.idle": "2024-11-07T23:30:51.360967Z",
     "shell.execute_reply": "2024-11-07T23:30:51.360100Z",
     "shell.execute_reply.started": "2024-11-07T23:30:50.098569Z"
    }
   },
   "outputs": [],
   "source": [
    "## saving\n",
    "# Define la ruta en S3 para almacenar el modelo de Regresión Logística\n",
    "s3_path_lr_model = \"/home/ubuntu/nlp-models/logisticregression\"\n",
    "\n",
    "# Guardar el modelo de Regresión Logística en S3\n",
    "lr_model.save(s3_path_lr_model)"
   ]
  },
  {
   "cell_type": "code",
   "execution_count": 34,
   "id": "241d864a-92cd-42b7-9f86-7b5e024f53c1",
   "metadata": {
    "execution": {
     "iopub.execute_input": "2024-11-07T23:30:51.362789Z",
     "iopub.status.busy": "2024-11-07T23:30:51.362623Z",
     "iopub.status.idle": "2024-11-07T23:30:52.257311Z",
     "shell.execute_reply": "2024-11-07T23:30:52.256662Z",
     "shell.execute_reply.started": "2024-11-07T23:30:51.362769Z"
    }
   },
   "outputs": [],
   "source": [
    "## saving\n",
    "# Define la ruta en S3 para almacenar el modelo de DT\n",
    "s3_path_dt_model = \"/home/ubuntu/nlp-models/DTree\"\n",
    "\n",
    "# Guardar el modelo de DT en S3\n",
    "dt_model.save(s3_path_dt_model)"
   ]
  },
  {
   "cell_type": "code",
   "execution_count": 36,
   "id": "7f553747-d59e-4acf-aa92-1ac4fff2cfc4",
   "metadata": {
    "execution": {
     "iopub.execute_input": "2024-11-07T23:30:52.259102Z",
     "iopub.status.busy": "2024-11-07T23:30:52.258861Z",
     "iopub.status.idle": "2024-11-07T23:30:53.523738Z",
     "shell.execute_reply": "2024-11-07T23:30:53.523130Z",
     "shell.execute_reply.started": "2024-11-07T23:30:52.259068Z"
    }
   },
   "outputs": [],
   "source": [
    "s3_path_lda = \"/home/ubuntu/nlp-models/lda_model\"\n",
    "\n",
    "# Guardar el modelo LDA en S3\n",
    "lda_model.save(s3_path_lda)"
   ]
  },
  {
   "cell_type": "code",
   "execution_count": 37,
   "id": "26d67913-9eac-4fbb-83ce-7a3fb9260138",
   "metadata": {
    "execution": {
     "iopub.execute_input": "2024-11-07T23:30:53.524905Z",
     "iopub.status.busy": "2024-11-07T23:30:53.524688Z",
     "iopub.status.idle": "2024-11-07T23:30:55.838220Z",
     "shell.execute_reply": "2024-11-07T23:30:55.837464Z",
     "shell.execute_reply.started": "2024-11-07T23:30:53.524874Z"
    }
   },
   "outputs": [],
   "source": [
    "s3_path_cv = \"/home/ubuntu/nlp-models/count_vectorizer_model\"\n",
    "s3_path_idf = \"/home/ubuntu/nlp-models/idf_model\"\n",
    "\n",
    "# Guardar el modelo CountVectorizer en S3\n",
    "cv_model.save(s3_path_cv)\n",
    "\n",
    "# Guardar el modelo IDF en S3\n",
    "idf_model.save(s3_path_idf)"
   ]
  },
  {
   "cell_type": "code",
   "execution_count": 38,
   "id": "548f8306-1a8b-4317-a63e-79a02e034756",
   "metadata": {
    "execution": {
     "iopub.execute_input": "2024-11-07T23:30:55.839371Z",
     "iopub.status.busy": "2024-11-07T23:30:55.839206Z",
     "iopub.status.idle": "2024-11-07T23:33:07.913328Z",
     "shell.execute_reply": "2024-11-07T23:33:07.912390Z",
     "shell.execute_reply.started": "2024-11-07T23:30:55.839350Z"
    }
   },
   "outputs": [
    {
     "name": "stderr",
     "output_type": "stream",
     "text": [
      "24/11/09 23:18:18 WARN DAGScheduler: Broadcasting large task binary with size 1643.5 KiB\n",
      "                                                                                \r"
     ]
    }
   ],
   "source": [
    "s3_path_results = \"/home/ubuntu/nlp-models/results/lda_transformed_data\"\n",
    "\n",
    "# Guardar el DataFrame `df_transformed` en S3 en formato Parquet\n",
    "df_transformed.write.mode(\"overwrite\").parquet(s3_path_results)"
   ]
  },
  {
   "cell_type": "code",
   "execution_count": 39,
   "id": "33c0d852-cdcf-4cd3-90e9-7aa7ee609ace",
   "metadata": {
    "execution": {
     "iopub.execute_input": "2024-11-07T23:33:07.915856Z",
     "iopub.status.busy": "2024-11-07T23:33:07.915369Z",
     "iopub.status.idle": "2024-11-07T23:35:17.505910Z",
     "shell.execute_reply": "2024-11-07T23:35:17.505120Z",
     "shell.execute_reply.started": "2024-11-07T23:33:07.915820Z"
    }
   },
   "outputs": [
    {
     "name": "stderr",
     "output_type": "stream",
     "text": [
      "24/11/09 23:20:44 WARN DAGScheduler: Broadcasting large task binary with size 1042.8 KiB\n",
      "                                                                                \r"
     ]
    },
    {
     "name": "stderr",
     "output_type": "stream",
     "text": [
      "24/11/10 01:37:07 WARN TransportChannelHandler: Exception in connection from /192.168.1.16:32791\n",
      "java.io.IOException: Connection timed out\n",
      "\tat java.base/sun.nio.ch.FileDispatcherImpl.read0(Native Method)\n",
      "\tat java.base/sun.nio.ch.SocketDispatcher.read(SocketDispatcher.java:39)\n",
      "\tat java.base/sun.nio.ch.IOUtil.readIntoNativeBuffer(IOUtil.java:276)\n",
      "\tat java.base/sun.nio.ch.IOUtil.read(IOUtil.java:233)\n",
      "\tat java.base/sun.nio.ch.IOUtil.read(IOUtil.java:223)\n",
      "\tat java.base/sun.nio.ch.SocketChannelImpl.read(SocketChannelImpl.java:356)\n",
      "\tat io.netty.buffer.PooledByteBuf.setBytes(PooledByteBuf.java:254)\n",
      "\tat io.netty.buffer.AbstractByteBuf.writeBytes(AbstractByteBuf.java:1132)\n",
      "\tat io.netty.channel.socket.nio.NioSocketChannel.doReadBytes(NioSocketChannel.java:357)\n",
      "\tat io.netty.channel.nio.AbstractNioByteChannel$NioByteUnsafe.read(AbstractNioByteChannel.java:151)\n",
      "\tat io.netty.channel.nio.NioEventLoop.processSelectedKey(NioEventLoop.java:788)\n",
      "\tat io.netty.channel.nio.NioEventLoop.processSelectedKeysOptimized(NioEventLoop.java:724)\n",
      "\tat io.netty.channel.nio.NioEventLoop.processSelectedKeys(NioEventLoop.java:650)\n",
      "\tat io.netty.channel.nio.NioEventLoop.run(NioEventLoop.java:562)\n",
      "\tat io.netty.util.concurrent.SingleThreadEventExecutor$4.run(SingleThreadEventExecutor.java:997)\n",
      "\tat io.netty.util.internal.ThreadExecutorMap$2.run(ThreadExecutorMap.java:74)\n",
      "\tat io.netty.util.concurrent.FastThreadLocalRunnable.run(FastThreadLocalRunnable.java:30)\n",
      "\tat java.base/java.lang.Thread.run(Thread.java:829)\n"
     ]
    }
   ],
   "source": [
    "s3_path_results = \"/home/ubuntu/nlp-models/results/cv_transformed_data\"\n",
    "\n",
    "df_tfidf.write.mode(\"overwrite\").parquet(s3_path_results)"
   ]
  }
 ],
 "metadata": {
  "kernelspec": {
   "display_name": "Python 3",
   "language": "python",
   "name": "python3"
  },
  "language_info": {
   "codemirror_mode": {
    "name": "ipython",
    "version": 3
   },
   "file_extension": ".py",
   "mimetype": "text/x-python",
   "name": "python",
   "nbconvert_exporter": "python",
   "pygments_lexer": "ipython3",
   "version": "3.12.3"
  }
 },
 "nbformat": 4,
 "nbformat_minor": 5
}
